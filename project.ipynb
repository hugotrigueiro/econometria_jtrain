{
 "metadata": {
  "language_info": {
   "codemirror_mode": {
    "name": "ipython",
    "version": 3
   },
   "file_extension": ".py",
   "mimetype": "text/x-python",
   "name": "python",
   "nbconvert_exporter": "python",
   "pygments_lexer": "ipython3",
   "version": "3.9.2-final"
  },
  "orig_nbformat": 2,
  "kernelspec": {
   "name": "python392jvsc74a57bd0e371fa212a86eef05a05c1a4bb19f1163a8f087c425547739b24c1fbf728b7a5",
   "display_name": "Python 3.9.2 64-bit"
  },
  "metadata": {
   "interpreter": {
    "hash": "e371fa212a86eef05a05c1a4bb19f1163a8f087c425547739b24c1fbf728b7a5"
   }
  }
 },
 "nbformat": 4,
 "nbformat_minor": 2,
 "cells": [
  {
   "cell_type": "code",
   "execution_count": 570,
   "metadata": {},
   "outputs": [],
   "source": [
    "import wooldridge as wd\n",
    "import pandas as pd"
   ]
  },
  {
   "cell_type": "code",
   "execution_count": 571,
   "metadata": {},
   "outputs": [],
   "source": [
    "pd.set_option(\"display.max_columns\", None)"
   ]
  },
  {
   "cell_type": "code",
   "execution_count": 572,
   "metadata": {},
   "outputs": [],
   "source": [
    "df = wd.data('jtrain')"
   ]
  },
  {
   "cell_type": "code",
   "execution_count": 584,
   "metadata": {},
   "outputs": [
    {
     "output_type": "execute_result",
     "data": {
      "text/plain": [
       "      fcode  year  employ       sales   avgsal  scrap  rework  tothrs  union  \\\n",
       "0  410032.0  1987   100.0  47000000.0  35000.0    NaN     NaN    12.0      0   \n",
       "1  410032.0  1988   131.0  43000000.0  37000.0    NaN     NaN     8.0      0   \n",
       "2  410032.0  1989   123.0  49000000.0  39000.0    NaN     NaN     8.0      0   \n",
       "3  410440.0  1987    12.0   1560000.0  10500.0    NaN     NaN    12.0      0   \n",
       "4  410440.0  1988    13.0   1970000.0  11000.0    NaN     NaN    12.0      0   \n",
       "\n",
       "   grant  d89  d88  totrain     hrsemp  lscrap   lemploy     lsales  lrework  \\\n",
       "0      0    0    0    100.0  12.000000     NaN  4.605170  17.665659      NaN   \n",
       "1      0    0    1     50.0   3.053435     NaN  4.875197  17.576710      NaN   \n",
       "2      0    1    0     50.0   3.252033     NaN  4.812184  17.707331      NaN   \n",
       "3      0    0    0     12.0  12.000000     NaN  2.484907  14.260197      NaN   \n",
       "4      0    0    1     13.0  12.000000     NaN  2.564949  14.493544      NaN   \n",
       "\n",
       "    lhrsemp  lscrap_1  grant_1  clscrap  cgrant  clemploy   clsales  \\\n",
       "0  2.564949       NaN        0      NaN       0       NaN       NaN   \n",
       "1  1.399565       NaN        0      NaN       0  0.270027 -0.088949   \n",
       "2  1.447397       NaN        0      NaN       0 -0.063013  0.130621   \n",
       "3  2.564949       NaN        0      NaN       0       NaN       NaN   \n",
       "4  2.564949       NaN        0      NaN       0  0.080043  0.233347   \n",
       "\n",
       "     lavgsal  clavgsal  cgrant_1   chrsemp  clhrsemp  firm_sub_1988  \\\n",
       "0  10.463103       NaN       NaN       NaN       NaN          False   \n",
       "1  10.518673  0.055570       0.0 -8.946565 -1.165385          False   \n",
       "2  10.571317  0.052644       0.0  0.198597  0.047832          False   \n",
       "3   9.259130       NaN       NaN       NaN       NaN          False   \n",
       "4   9.305651  0.046520       0.0  0.000000  0.000000          False   \n",
       "\n",
       "   firm_sub_1989  firm_sub_not  grant_1988  grant_1989  grant_no  \n",
       "0          False             1           0           0         1  \n",
       "1          False             1           0           0         1  \n",
       "2          False             1           0           0         1  \n",
       "3          False             1           0           0         1  \n",
       "4          False             1           0           0         1  "
      ],
      "text/html": "<div>\n<style scoped>\n    .dataframe tbody tr th:only-of-type {\n        vertical-align: middle;\n    }\n\n    .dataframe tbody tr th {\n        vertical-align: top;\n    }\n\n    .dataframe thead th {\n        text-align: right;\n    }\n</style>\n<table border=\"1\" class=\"dataframe\">\n  <thead>\n    <tr style=\"text-align: right;\">\n      <th></th>\n      <th>fcode</th>\n      <th>year</th>\n      <th>employ</th>\n      <th>sales</th>\n      <th>avgsal</th>\n      <th>scrap</th>\n      <th>rework</th>\n      <th>tothrs</th>\n      <th>union</th>\n      <th>grant</th>\n      <th>d89</th>\n      <th>d88</th>\n      <th>totrain</th>\n      <th>hrsemp</th>\n      <th>lscrap</th>\n      <th>lemploy</th>\n      <th>lsales</th>\n      <th>lrework</th>\n      <th>lhrsemp</th>\n      <th>lscrap_1</th>\n      <th>grant_1</th>\n      <th>clscrap</th>\n      <th>cgrant</th>\n      <th>clemploy</th>\n      <th>clsales</th>\n      <th>lavgsal</th>\n      <th>clavgsal</th>\n      <th>cgrant_1</th>\n      <th>chrsemp</th>\n      <th>clhrsemp</th>\n      <th>firm_sub_1988</th>\n      <th>firm_sub_1989</th>\n      <th>firm_sub_not</th>\n      <th>grant_1988</th>\n      <th>grant_1989</th>\n      <th>grant_no</th>\n    </tr>\n  </thead>\n  <tbody>\n    <tr>\n      <th>0</th>\n      <td>410032.0</td>\n      <td>1987</td>\n      <td>100.0</td>\n      <td>47000000.0</td>\n      <td>35000.0</td>\n      <td>NaN</td>\n      <td>NaN</td>\n      <td>12.0</td>\n      <td>0</td>\n      <td>0</td>\n      <td>0</td>\n      <td>0</td>\n      <td>100.0</td>\n      <td>12.000000</td>\n      <td>NaN</td>\n      <td>4.605170</td>\n      <td>17.665659</td>\n      <td>NaN</td>\n      <td>2.564949</td>\n      <td>NaN</td>\n      <td>0</td>\n      <td>NaN</td>\n      <td>0</td>\n      <td>NaN</td>\n      <td>NaN</td>\n      <td>10.463103</td>\n      <td>NaN</td>\n      <td>NaN</td>\n      <td>NaN</td>\n      <td>NaN</td>\n      <td>False</td>\n      <td>False</td>\n      <td>1</td>\n      <td>0</td>\n      <td>0</td>\n      <td>1</td>\n    </tr>\n    <tr>\n      <th>1</th>\n      <td>410032.0</td>\n      <td>1988</td>\n      <td>131.0</td>\n      <td>43000000.0</td>\n      <td>37000.0</td>\n      <td>NaN</td>\n      <td>NaN</td>\n      <td>8.0</td>\n      <td>0</td>\n      <td>0</td>\n      <td>0</td>\n      <td>1</td>\n      <td>50.0</td>\n      <td>3.053435</td>\n      <td>NaN</td>\n      <td>4.875197</td>\n      <td>17.576710</td>\n      <td>NaN</td>\n      <td>1.399565</td>\n      <td>NaN</td>\n      <td>0</td>\n      <td>NaN</td>\n      <td>0</td>\n      <td>0.270027</td>\n      <td>-0.088949</td>\n      <td>10.518673</td>\n      <td>0.055570</td>\n      <td>0.0</td>\n      <td>-8.946565</td>\n      <td>-1.165385</td>\n      <td>False</td>\n      <td>False</td>\n      <td>1</td>\n      <td>0</td>\n      <td>0</td>\n      <td>1</td>\n    </tr>\n    <tr>\n      <th>2</th>\n      <td>410032.0</td>\n      <td>1989</td>\n      <td>123.0</td>\n      <td>49000000.0</td>\n      <td>39000.0</td>\n      <td>NaN</td>\n      <td>NaN</td>\n      <td>8.0</td>\n      <td>0</td>\n      <td>0</td>\n      <td>1</td>\n      <td>0</td>\n      <td>50.0</td>\n      <td>3.252033</td>\n      <td>NaN</td>\n      <td>4.812184</td>\n      <td>17.707331</td>\n      <td>NaN</td>\n      <td>1.447397</td>\n      <td>NaN</td>\n      <td>0</td>\n      <td>NaN</td>\n      <td>0</td>\n      <td>-0.063013</td>\n      <td>0.130621</td>\n      <td>10.571317</td>\n      <td>0.052644</td>\n      <td>0.0</td>\n      <td>0.198597</td>\n      <td>0.047832</td>\n      <td>False</td>\n      <td>False</td>\n      <td>1</td>\n      <td>0</td>\n      <td>0</td>\n      <td>1</td>\n    </tr>\n    <tr>\n      <th>3</th>\n      <td>410440.0</td>\n      <td>1987</td>\n      <td>12.0</td>\n      <td>1560000.0</td>\n      <td>10500.0</td>\n      <td>NaN</td>\n      <td>NaN</td>\n      <td>12.0</td>\n      <td>0</td>\n      <td>0</td>\n      <td>0</td>\n      <td>0</td>\n      <td>12.0</td>\n      <td>12.000000</td>\n      <td>NaN</td>\n      <td>2.484907</td>\n      <td>14.260197</td>\n      <td>NaN</td>\n      <td>2.564949</td>\n      <td>NaN</td>\n      <td>0</td>\n      <td>NaN</td>\n      <td>0</td>\n      <td>NaN</td>\n      <td>NaN</td>\n      <td>9.259130</td>\n      <td>NaN</td>\n      <td>NaN</td>\n      <td>NaN</td>\n      <td>NaN</td>\n      <td>False</td>\n      <td>False</td>\n      <td>1</td>\n      <td>0</td>\n      <td>0</td>\n      <td>1</td>\n    </tr>\n    <tr>\n      <th>4</th>\n      <td>410440.0</td>\n      <td>1988</td>\n      <td>13.0</td>\n      <td>1970000.0</td>\n      <td>11000.0</td>\n      <td>NaN</td>\n      <td>NaN</td>\n      <td>12.0</td>\n      <td>0</td>\n      <td>0</td>\n      <td>0</td>\n      <td>1</td>\n      <td>13.0</td>\n      <td>12.000000</td>\n      <td>NaN</td>\n      <td>2.564949</td>\n      <td>14.493544</td>\n      <td>NaN</td>\n      <td>2.564949</td>\n      <td>NaN</td>\n      <td>0</td>\n      <td>NaN</td>\n      <td>0</td>\n      <td>0.080043</td>\n      <td>0.233347</td>\n      <td>9.305651</td>\n      <td>0.046520</td>\n      <td>0.0</td>\n      <td>0.000000</td>\n      <td>0.000000</td>\n      <td>False</td>\n      <td>False</td>\n      <td>1</td>\n      <td>0</td>\n      <td>0</td>\n      <td>1</td>\n    </tr>\n  </tbody>\n</table>\n</div>"
     },
     "metadata": {},
     "execution_count": 584
    }
   ],
   "source": [
    "df.head()"
   ]
  },
  {
   "cell_type": "code",
   "execution_count": 574,
   "metadata": {},
   "outputs": [],
   "source": [
    "df[\"firm_sub_1988\"] = (df[\"year\"] == 1988) & (df[\"grant\"] == 1).astype(int)\n",
    "df[\"firm_sub_1989\"] = (df[\"year\"] == 1989) & (df[\"grant\"] == 1).astype(int)\n",
    "df[\"firm_sub_not\"] = (df[\"grant\"] == 0).astype(int)"
   ]
  },
  {
   "cell_type": "code",
   "execution_count": 576,
   "metadata": {},
   "outputs": [
    {
     "output_type": "execute_result",
     "data": {
      "text/plain": [
       "   year     fcode  employ       sales   avgsal  scrap  rework  tothrs  union  \\\n",
       "0  1987  410032.0   100.0  47000000.0  35000.0    NaN     NaN    12.0      0   \n",
       "1  1988  410032.0   131.0  43000000.0  37000.0    NaN     NaN     8.0      0   \n",
       "2  1989  410032.0   123.0  49000000.0  39000.0    NaN     NaN     8.0      0   \n",
       "3  1987  410440.0    12.0   1560000.0  10500.0    NaN     NaN    12.0      0   \n",
       "4  1988  410440.0    13.0   1970000.0  11000.0    NaN     NaN    12.0      0   \n",
       "\n",
       "   grant  d89  d88  totrain     hrsemp  lscrap   lemploy     lsales  lrework  \\\n",
       "0      0    0    0    100.0  12.000000     NaN  4.605170  17.665659      NaN   \n",
       "1      0    0    1     50.0   3.053435     NaN  4.875197  17.576710      NaN   \n",
       "2      0    1    0     50.0   3.252033     NaN  4.812184  17.707331      NaN   \n",
       "3      0    0    0     12.0  12.000000     NaN  2.484907  14.260197      NaN   \n",
       "4      0    0    1     13.0  12.000000     NaN  2.564949  14.493544      NaN   \n",
       "\n",
       "    lhrsemp  lscrap_1  grant_1  clscrap  cgrant  clemploy   clsales  \\\n",
       "0  2.564949       NaN        0      NaN       0       NaN       NaN   \n",
       "1  1.399565       NaN        0      NaN       0  0.270027 -0.088949   \n",
       "2  1.447397       NaN        0      NaN       0 -0.063013  0.130621   \n",
       "3  2.564949       NaN        0      NaN       0       NaN       NaN   \n",
       "4  2.564949       NaN        0      NaN       0  0.080043  0.233347   \n",
       "\n",
       "     lavgsal  clavgsal  cgrant_1   chrsemp  clhrsemp  firm_sub_1988  \\\n",
       "0  10.463103       NaN       NaN       NaN       NaN          False   \n",
       "1  10.518673  0.055570       0.0 -8.946565 -1.165385          False   \n",
       "2  10.571317  0.052644       0.0  0.198597  0.047832          False   \n",
       "3   9.259130       NaN       NaN       NaN       NaN          False   \n",
       "4   9.305651  0.046520       0.0  0.000000  0.000000          False   \n",
       "\n",
       "   firm_sub_1989  firm_sub_not  \n",
       "0          False             1  \n",
       "1          False             1  \n",
       "2          False             1  \n",
       "3          False             1  \n",
       "4          False             1  "
      ],
      "text/html": "<div>\n<style scoped>\n    .dataframe tbody tr th:only-of-type {\n        vertical-align: middle;\n    }\n\n    .dataframe tbody tr th {\n        vertical-align: top;\n    }\n\n    .dataframe thead th {\n        text-align: right;\n    }\n</style>\n<table border=\"1\" class=\"dataframe\">\n  <thead>\n    <tr style=\"text-align: right;\">\n      <th></th>\n      <th>year</th>\n      <th>fcode</th>\n      <th>employ</th>\n      <th>sales</th>\n      <th>avgsal</th>\n      <th>scrap</th>\n      <th>rework</th>\n      <th>tothrs</th>\n      <th>union</th>\n      <th>grant</th>\n      <th>d89</th>\n      <th>d88</th>\n      <th>totrain</th>\n      <th>hrsemp</th>\n      <th>lscrap</th>\n      <th>lemploy</th>\n      <th>lsales</th>\n      <th>lrework</th>\n      <th>lhrsemp</th>\n      <th>lscrap_1</th>\n      <th>grant_1</th>\n      <th>clscrap</th>\n      <th>cgrant</th>\n      <th>clemploy</th>\n      <th>clsales</th>\n      <th>lavgsal</th>\n      <th>clavgsal</th>\n      <th>cgrant_1</th>\n      <th>chrsemp</th>\n      <th>clhrsemp</th>\n      <th>firm_sub_1988</th>\n      <th>firm_sub_1989</th>\n      <th>firm_sub_not</th>\n    </tr>\n  </thead>\n  <tbody>\n    <tr>\n      <th>0</th>\n      <td>1987</td>\n      <td>410032.0</td>\n      <td>100.0</td>\n      <td>47000000.0</td>\n      <td>35000.0</td>\n      <td>NaN</td>\n      <td>NaN</td>\n      <td>12.0</td>\n      <td>0</td>\n      <td>0</td>\n      <td>0</td>\n      <td>0</td>\n      <td>100.0</td>\n      <td>12.000000</td>\n      <td>NaN</td>\n      <td>4.605170</td>\n      <td>17.665659</td>\n      <td>NaN</td>\n      <td>2.564949</td>\n      <td>NaN</td>\n      <td>0</td>\n      <td>NaN</td>\n      <td>0</td>\n      <td>NaN</td>\n      <td>NaN</td>\n      <td>10.463103</td>\n      <td>NaN</td>\n      <td>NaN</td>\n      <td>NaN</td>\n      <td>NaN</td>\n      <td>False</td>\n      <td>False</td>\n      <td>1</td>\n    </tr>\n    <tr>\n      <th>1</th>\n      <td>1988</td>\n      <td>410032.0</td>\n      <td>131.0</td>\n      <td>43000000.0</td>\n      <td>37000.0</td>\n      <td>NaN</td>\n      <td>NaN</td>\n      <td>8.0</td>\n      <td>0</td>\n      <td>0</td>\n      <td>0</td>\n      <td>1</td>\n      <td>50.0</td>\n      <td>3.053435</td>\n      <td>NaN</td>\n      <td>4.875197</td>\n      <td>17.576710</td>\n      <td>NaN</td>\n      <td>1.399565</td>\n      <td>NaN</td>\n      <td>0</td>\n      <td>NaN</td>\n      <td>0</td>\n      <td>0.270027</td>\n      <td>-0.088949</td>\n      <td>10.518673</td>\n      <td>0.055570</td>\n      <td>0.0</td>\n      <td>-8.946565</td>\n      <td>-1.165385</td>\n      <td>False</td>\n      <td>False</td>\n      <td>1</td>\n    </tr>\n    <tr>\n      <th>2</th>\n      <td>1989</td>\n      <td>410032.0</td>\n      <td>123.0</td>\n      <td>49000000.0</td>\n      <td>39000.0</td>\n      <td>NaN</td>\n      <td>NaN</td>\n      <td>8.0</td>\n      <td>0</td>\n      <td>0</td>\n      <td>1</td>\n      <td>0</td>\n      <td>50.0</td>\n      <td>3.252033</td>\n      <td>NaN</td>\n      <td>4.812184</td>\n      <td>17.707331</td>\n      <td>NaN</td>\n      <td>1.447397</td>\n      <td>NaN</td>\n      <td>0</td>\n      <td>NaN</td>\n      <td>0</td>\n      <td>-0.063013</td>\n      <td>0.130621</td>\n      <td>10.571317</td>\n      <td>0.052644</td>\n      <td>0.0</td>\n      <td>0.198597</td>\n      <td>0.047832</td>\n      <td>False</td>\n      <td>False</td>\n      <td>1</td>\n    </tr>\n    <tr>\n      <th>3</th>\n      <td>1987</td>\n      <td>410440.0</td>\n      <td>12.0</td>\n      <td>1560000.0</td>\n      <td>10500.0</td>\n      <td>NaN</td>\n      <td>NaN</td>\n      <td>12.0</td>\n      <td>0</td>\n      <td>0</td>\n      <td>0</td>\n      <td>0</td>\n      <td>12.0</td>\n      <td>12.000000</td>\n      <td>NaN</td>\n      <td>2.484907</td>\n      <td>14.260197</td>\n      <td>NaN</td>\n      <td>2.564949</td>\n      <td>NaN</td>\n      <td>0</td>\n      <td>NaN</td>\n      <td>0</td>\n      <td>NaN</td>\n      <td>NaN</td>\n      <td>9.259130</td>\n      <td>NaN</td>\n      <td>NaN</td>\n      <td>NaN</td>\n      <td>NaN</td>\n      <td>False</td>\n      <td>False</td>\n      <td>1</td>\n    </tr>\n    <tr>\n      <th>4</th>\n      <td>1988</td>\n      <td>410440.0</td>\n      <td>13.0</td>\n      <td>1970000.0</td>\n      <td>11000.0</td>\n      <td>NaN</td>\n      <td>NaN</td>\n      <td>12.0</td>\n      <td>0</td>\n      <td>0</td>\n      <td>0</td>\n      <td>1</td>\n      <td>13.0</td>\n      <td>12.000000</td>\n      <td>NaN</td>\n      <td>2.564949</td>\n      <td>14.493544</td>\n      <td>NaN</td>\n      <td>2.564949</td>\n      <td>NaN</td>\n      <td>0</td>\n      <td>NaN</td>\n      <td>0</td>\n      <td>0.080043</td>\n      <td>0.233347</td>\n      <td>9.305651</td>\n      <td>0.046520</td>\n      <td>0.0</td>\n      <td>0.000000</td>\n      <td>0.000000</td>\n      <td>False</td>\n      <td>False</td>\n      <td>1</td>\n    </tr>\n  </tbody>\n</table>\n</div>"
     },
     "metadata": {},
     "execution_count": 576
    }
   ],
   "source": [
    "df.head()"
   ]
  },
  {
   "cell_type": "code",
   "execution_count": 577,
   "metadata": {},
   "outputs": [],
   "source": [
    "df = pd.concat([df.set_index(\"fcode\"), df.groupby([\"fcode\"])[\"firm_sub_1988\"].max().astype(int).rename(\"grant_1988\")], axis=1).reset_index()\r\n",
    "df = pd.concat([df.set_index(\"fcode\"), df.groupby([\"fcode\"])[\"firm_sub_1989\"].max().astype(int).rename(\"grant_1989\")], axis=1).reset_index()\r\n",
    "df = pd.concat([df.set_index(\"fcode\"), (df.groupby([\"fcode\"])[\"firm_sub_not\"].sum() == 3).astype(int).astype(int).rename(\"grant_no\")], axis=1).reset_index()"
   ]
  },
  {
   "cell_type": "code",
   "execution_count": 580,
   "metadata": {},
   "outputs": [
    {
     "output_type": "execute_result",
     "data": {
      "text/plain": [
       "                                            count       mean        std\n",
       "descricao                             year                             \n",
       "Firmas que receberam subsídio em 1988 1987     36   7.672105  19.574833\n",
       "                                      1988     36  35.978342  36.956019\n",
       "                                      1989     36  10.055916  19.474582"
      ],
      "text/html": "<div>\n<style scoped>\n    .dataframe tbody tr th:only-of-type {\n        vertical-align: middle;\n    }\n\n    .dataframe tbody tr th {\n        vertical-align: top;\n    }\n\n    .dataframe thead th {\n        text-align: right;\n    }\n</style>\n<table border=\"1\" class=\"dataframe\">\n  <thead>\n    <tr style=\"text-align: right;\">\n      <th></th>\n      <th></th>\n      <th>count</th>\n      <th>mean</th>\n      <th>std</th>\n    </tr>\n    <tr>\n      <th>descricao</th>\n      <th>year</th>\n      <th></th>\n      <th></th>\n      <th></th>\n    </tr>\n  </thead>\n  <tbody>\n    <tr>\n      <th rowspan=\"3\" valign=\"top\">Firmas que receberam subsídio em 1988</th>\n      <th>1987</th>\n      <td>36</td>\n      <td>7.672105</td>\n      <td>19.574833</td>\n    </tr>\n    <tr>\n      <th>1988</th>\n      <td>36</td>\n      <td>35.978342</td>\n      <td>36.956019</td>\n    </tr>\n    <tr>\n      <th>1989</th>\n      <td>36</td>\n      <td>10.055916</td>\n      <td>19.474582</td>\n    </tr>\n  </tbody>\n</table>\n</div>"
     },
     "metadata": {},
     "execution_count": 580
    }
   ],
   "source": [
    "df88 = df.groupby([\"year\", \"grant_1988\"]).agg({\"fcode\": \"count\", \"hrsemp\": [\"mean\", \"std\"]}).reset_index(level=1)\n",
    "df88 = df88.loc[df88.grant_1988 == 1].drop([\"grant_1988\"], level=0, axis=1).reset_index()\n",
    "df88.columns = [\"year\", \"count\", \"mean\", \"std\"]\n",
    "df88[\"descricao\"] = \"Firmas que receberam subsídio em 1988\"\n",
    "df88 = df88.groupby([\"descricao\", \"year\"]).mean()\n",
    "df88"
   ]
  },
  {
   "cell_type": "code",
   "execution_count": 581,
   "metadata": {},
   "outputs": [
    {
     "output_type": "execute_result",
     "data": {
      "text/plain": [
       "                                            count       mean        std\n",
       "descricao                             year                             \n",
       "Firmas que receberam subsídio em 1989 1987     30   6.124542  11.309335\n",
       "                                      1988     30   9.315550  17.360545\n",
       "                                      1989     30  50.649975  36.217713"
      ],
      "text/html": "<div>\n<style scoped>\n    .dataframe tbody tr th:only-of-type {\n        vertical-align: middle;\n    }\n\n    .dataframe tbody tr th {\n        vertical-align: top;\n    }\n\n    .dataframe thead th {\n        text-align: right;\n    }\n</style>\n<table border=\"1\" class=\"dataframe\">\n  <thead>\n    <tr style=\"text-align: right;\">\n      <th></th>\n      <th></th>\n      <th>count</th>\n      <th>mean</th>\n      <th>std</th>\n    </tr>\n    <tr>\n      <th>descricao</th>\n      <th>year</th>\n      <th></th>\n      <th></th>\n      <th></th>\n    </tr>\n  </thead>\n  <tbody>\n    <tr>\n      <th rowspan=\"3\" valign=\"top\">Firmas que receberam subsídio em 1989</th>\n      <th>1987</th>\n      <td>30</td>\n      <td>6.124542</td>\n      <td>11.309335</td>\n    </tr>\n    <tr>\n      <th>1988</th>\n      <td>30</td>\n      <td>9.315550</td>\n      <td>17.360545</td>\n    </tr>\n    <tr>\n      <th>1989</th>\n      <td>30</td>\n      <td>50.649975</td>\n      <td>36.217713</td>\n    </tr>\n  </tbody>\n</table>\n</div>"
     },
     "metadata": {},
     "execution_count": 581
    }
   ],
   "source": [
    "df89 = df.groupby([\"year\", \"grant_1989\"]).agg({\"fcode\": \"count\", \"hrsemp\": [\"mean\", \"std\"]}).reset_index(level=1)\n",
    "df89 = df89.loc[df89.grant_1989 == 1].drop([\"grant_1989\"], level=0, axis=1).reset_index()\n",
    "df89.columns = [\"year\", \"count\", \"mean\", \"std\"]\n",
    "df89[\"descricao\"] = \"Firmas que receberam subsídio em 1989\"\n",
    "df89 = df89.groupby([\"descricao\", \"year\"]).mean()\n",
    "df89"
   ]
  },
  {
   "cell_type": "code",
   "execution_count": 582,
   "metadata": {},
   "outputs": [
    {
     "output_type": "execute_result",
     "data": {
      "text/plain": [
       "                                        count       mean        std\n",
       "descricao                         year                             \n",
       "Firmas que não receberam subsídio 1987     91  10.702936  18.314595\n",
       "                                  1988     91   9.817479  18.627084\n",
       "                                  1989     91  12.352485  23.777301"
      ],
      "text/html": "<div>\n<style scoped>\n    .dataframe tbody tr th:only-of-type {\n        vertical-align: middle;\n    }\n\n    .dataframe tbody tr th {\n        vertical-align: top;\n    }\n\n    .dataframe thead th {\n        text-align: right;\n    }\n</style>\n<table border=\"1\" class=\"dataframe\">\n  <thead>\n    <tr style=\"text-align: right;\">\n      <th></th>\n      <th></th>\n      <th>count</th>\n      <th>mean</th>\n      <th>std</th>\n    </tr>\n    <tr>\n      <th>descricao</th>\n      <th>year</th>\n      <th></th>\n      <th></th>\n      <th></th>\n    </tr>\n  </thead>\n  <tbody>\n    <tr>\n      <th rowspan=\"3\" valign=\"top\">Firmas que não receberam subsídio</th>\n      <th>1987</th>\n      <td>91</td>\n      <td>10.702936</td>\n      <td>18.314595</td>\n    </tr>\n    <tr>\n      <th>1988</th>\n      <td>91</td>\n      <td>9.817479</td>\n      <td>18.627084</td>\n    </tr>\n    <tr>\n      <th>1989</th>\n      <td>91</td>\n      <td>12.352485</td>\n      <td>23.777301</td>\n    </tr>\n  </tbody>\n</table>\n</div>"
     },
     "metadata": {},
     "execution_count": 582
    }
   ],
   "source": [
    "dfnot = df.groupby([\"year\", \"grant_no\"]).agg({\"fcode\": \"count\", \"hrsemp\": [\"mean\", \"std\"]}).reset_index(level=1)\n",
    "dfnot = dfnot.loc[dfnot.grant_no == 1].drop([\"grant_no\"], level=0, axis=1).reset_index()\n",
    "dfnot.columns = [\"year\", \"count\", \"mean\", \"std\"]\n",
    "dfnot[\"descricao\"] = \"Firmas que não receberam subsídio\"\n",
    "dfnot = dfnot.groupby([\"descricao\", \"year\"]).mean()\n",
    "dfnot"
   ]
  },
  {
   "cell_type": "code",
   "execution_count": 583,
   "metadata": {},
   "outputs": [
    {
     "output_type": "execute_result",
     "data": {
      "text/plain": [
       "                                            count       mean        std\n",
       "descricao                             year                             \n",
       "Firmas que receberam subsídio em 1988 1987     36   7.672105  19.574833\n",
       "                                      1988     36  35.978342  36.956019\n",
       "                                      1989     36  10.055916  19.474582\n",
       "Firmas que receberam subsídio em 1989 1987     30   6.124542  11.309335\n",
       "                                      1988     30   9.315550  17.360545\n",
       "                                      1989     30  50.649975  36.217713\n",
       "Firmas que não receberam subsídio     1987     91  10.702936  18.314595\n",
       "                                      1988     91   9.817479  18.627084\n",
       "                                      1989     91  12.352485  23.777301"
      ],
      "text/html": "<div>\n<style scoped>\n    .dataframe tbody tr th:only-of-type {\n        vertical-align: middle;\n    }\n\n    .dataframe tbody tr th {\n        vertical-align: top;\n    }\n\n    .dataframe thead th {\n        text-align: right;\n    }\n</style>\n<table border=\"1\" class=\"dataframe\">\n  <thead>\n    <tr style=\"text-align: right;\">\n      <th></th>\n      <th></th>\n      <th>count</th>\n      <th>mean</th>\n      <th>std</th>\n    </tr>\n    <tr>\n      <th>descricao</th>\n      <th>year</th>\n      <th></th>\n      <th></th>\n      <th></th>\n    </tr>\n  </thead>\n  <tbody>\n    <tr>\n      <th rowspan=\"3\" valign=\"top\">Firmas que receberam subsídio em 1988</th>\n      <th>1987</th>\n      <td>36</td>\n      <td>7.672105</td>\n      <td>19.574833</td>\n    </tr>\n    <tr>\n      <th>1988</th>\n      <td>36</td>\n      <td>35.978342</td>\n      <td>36.956019</td>\n    </tr>\n    <tr>\n      <th>1989</th>\n      <td>36</td>\n      <td>10.055916</td>\n      <td>19.474582</td>\n    </tr>\n    <tr>\n      <th rowspan=\"3\" valign=\"top\">Firmas que receberam subsídio em 1989</th>\n      <th>1987</th>\n      <td>30</td>\n      <td>6.124542</td>\n      <td>11.309335</td>\n    </tr>\n    <tr>\n      <th>1988</th>\n      <td>30</td>\n      <td>9.315550</td>\n      <td>17.360545</td>\n    </tr>\n    <tr>\n      <th>1989</th>\n      <td>30</td>\n      <td>50.649975</td>\n      <td>36.217713</td>\n    </tr>\n    <tr>\n      <th rowspan=\"3\" valign=\"top\">Firmas que não receberam subsídio</th>\n      <th>1987</th>\n      <td>91</td>\n      <td>10.702936</td>\n      <td>18.314595</td>\n    </tr>\n    <tr>\n      <th>1988</th>\n      <td>91</td>\n      <td>9.817479</td>\n      <td>18.627084</td>\n    </tr>\n    <tr>\n      <th>1989</th>\n      <td>91</td>\n      <td>12.352485</td>\n      <td>23.777301</td>\n    </tr>\n  </tbody>\n</table>\n</div>"
     },
     "metadata": {},
     "execution_count": 583
    }
   ],
   "source": [
    "df2 = pd.concat([df88, df89, dfnot])\n",
    "df2"
   ]
  }
 ]
}