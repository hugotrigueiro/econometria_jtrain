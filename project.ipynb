{
 "metadata": {
  "language_info": {
   "codemirror_mode": {
    "name": "ipython",
    "version": 3
   },
   "file_extension": ".py",
   "mimetype": "text/x-python",
   "name": "python",
   "nbconvert_exporter": "python",
   "pygments_lexer": "ipython3",
   "version": "3.9.2-final"
  },
  "orig_nbformat": 2,
  "kernelspec": {
   "name": "python392jvsc74a57bd0e371fa212a86eef05a05c1a4bb19f1163a8f087c425547739b24c1fbf728b7a5",
   "display_name": "Python 3.9.2 64-bit"
  },
  "metadata": {
   "interpreter": {
    "hash": "e371fa212a86eef05a05c1a4bb19f1163a8f087c425547739b24c1fbf728b7a5"
   }
  }
 },
 "nbformat": 4,
 "nbformat_minor": 2,
 "cells": [
  {
   "cell_type": "code",
   "execution_count": 553,
   "metadata": {},
   "outputs": [],
   "source": [
    "import wooldridge as wd\n",
    "import pandas as pd"
   ]
  },
  {
   "cell_type": "code",
   "execution_count": 554,
   "metadata": {},
   "outputs": [],
   "source": [
    "pd.set_option(\"display.max_columns\", None)"
   ]
  },
  {
   "cell_type": "code",
   "execution_count": 555,
   "metadata": {},
   "outputs": [],
   "source": [
    "df = wd.data('jtrain')"
   ]
  },
  {
   "cell_type": "code",
   "execution_count": 556,
   "metadata": {},
   "outputs": [
    {
     "output_type": "execute_result",
     "data": {
      "text/plain": [
       "     year     fcode  employ       sales   avgsal  scrap  rework  tothrs  \\\n",
       "0    1987  410032.0   100.0  47000000.0  35000.0    NaN     NaN    12.0   \n",
       "1    1988  410032.0   131.0  43000000.0  37000.0    NaN     NaN     8.0   \n",
       "2    1989  410032.0   123.0  49000000.0  39000.0    NaN     NaN     8.0   \n",
       "3    1987  410440.0    12.0   1560000.0  10500.0    NaN     NaN    12.0   \n",
       "4    1988  410440.0    13.0   1970000.0  11000.0    NaN     NaN    12.0   \n",
       "..    ...       ...     ...         ...      ...    ...     ...     ...   \n",
       "466  1988  419483.0   108.0  11500000.0  14810.0   25.0     NaN     0.0   \n",
       "467  1989  419483.0   129.0  12000000.0  14227.0   30.0     NaN    20.0   \n",
       "468  1987  419486.0    80.0   7000000.0  16000.0    NaN     NaN     0.0   \n",
       "469  1988  419486.0    90.0   8500000.0  17000.0    NaN     NaN     0.0   \n",
       "470  1989  419486.0   100.0   9900000.0  18000.0    NaN     NaN    40.0   \n",
       "\n",
       "     union  grant  d89  d88  totrain     hrsemp    lscrap   lemploy  \\\n",
       "0        0      0    0    0    100.0  12.000000       NaN  4.605170   \n",
       "1        0      0    0    1     50.0   3.053435       NaN  4.875197   \n",
       "2        0      0    1    0     50.0   3.252033       NaN  4.812184   \n",
       "3        0      0    0    0     12.0  12.000000       NaN  2.484907   \n",
       "4        0      0    0    1     13.0  12.000000       NaN  2.564949   \n",
       "..     ...    ...  ...  ...      ...        ...       ...       ...   \n",
       "466      1      0    0    1      0.0   0.000000  3.218876  4.682131   \n",
       "467      1      0    1    0     20.0   3.100775  3.401197  4.859812   \n",
       "468      0      0    0    0      0.0   0.000000       NaN  4.382027   \n",
       "469      0      0    0    1      0.0   0.000000       NaN  4.499810   \n",
       "470      0      1    1    0     90.0  36.000000       NaN  4.605170   \n",
       "\n",
       "        lsales  lrework   lhrsemp  lscrap_1  grant_1   clscrap  cgrant  \\\n",
       "0    17.665659      NaN  2.564949       NaN        0       NaN       0   \n",
       "1    17.576710      NaN  1.399565       NaN        0       NaN       0   \n",
       "2    17.707331      NaN  1.447397       NaN        0       NaN       0   \n",
       "3    14.260197      NaN  2.564949       NaN        0       NaN       0   \n",
       "4    14.493544      NaN  2.564949       NaN        0       NaN       0   \n",
       "..         ...      ...       ...       ...      ...       ...     ...   \n",
       "466  16.257858      NaN  0.000000  2.995732        0  0.223144       0   \n",
       "467  16.300417      NaN  1.411176  3.218876        0  0.182322       0   \n",
       "468  15.761420      NaN  0.000000       NaN        0       NaN       0   \n",
       "469  15.955577      NaN  0.000000       NaN        0       NaN       0   \n",
       "470  16.108046      NaN  3.610918       NaN        0       NaN       1   \n",
       "\n",
       "     clemploy   clsales    lavgsal  clavgsal  cgrant_1    chrsemp  clhrsemp  \n",
       "0         NaN       NaN  10.463103       NaN       NaN        NaN       NaN  \n",
       "1    0.270027 -0.088949  10.518673  0.055570       0.0  -8.946565 -1.165385  \n",
       "2   -0.063013  0.130621  10.571317  0.052644       0.0   0.198597  0.047832  \n",
       "3         NaN       NaN   9.259130       NaN       NaN        NaN       NaN  \n",
       "4    0.080043  0.233347   9.305651  0.046520       0.0   0.000000  0.000000  \n",
       "..        ...       ...        ...       ...       ...        ...       ...  \n",
       "466 -0.208218  0.044453   9.603058  0.059321       0.0   0.000000  0.000000  \n",
       "467  0.177681  0.042559   9.562897 -0.040161       0.0   3.100775  1.411176  \n",
       "468       NaN       NaN   9.680344       NaN       NaN        NaN       NaN  \n",
       "469  0.117783  0.194157   9.740969  0.060625       0.0   0.000000  0.000000  \n",
       "470  0.105361  0.152469   9.798127  0.057158       0.0  36.000000  3.610918  \n",
       "\n",
       "[471 rows x 30 columns]"
      ],
      "text/html": "<div>\n<style scoped>\n    .dataframe tbody tr th:only-of-type {\n        vertical-align: middle;\n    }\n\n    .dataframe tbody tr th {\n        vertical-align: top;\n    }\n\n    .dataframe thead th {\n        text-align: right;\n    }\n</style>\n<table border=\"1\" class=\"dataframe\">\n  <thead>\n    <tr style=\"text-align: right;\">\n      <th></th>\n      <th>year</th>\n      <th>fcode</th>\n      <th>employ</th>\n      <th>sales</th>\n      <th>avgsal</th>\n      <th>scrap</th>\n      <th>rework</th>\n      <th>tothrs</th>\n      <th>union</th>\n      <th>grant</th>\n      <th>d89</th>\n      <th>d88</th>\n      <th>totrain</th>\n      <th>hrsemp</th>\n      <th>lscrap</th>\n      <th>lemploy</th>\n      <th>lsales</th>\n      <th>lrework</th>\n      <th>lhrsemp</th>\n      <th>lscrap_1</th>\n      <th>grant_1</th>\n      <th>clscrap</th>\n      <th>cgrant</th>\n      <th>clemploy</th>\n      <th>clsales</th>\n      <th>lavgsal</th>\n      <th>clavgsal</th>\n      <th>cgrant_1</th>\n      <th>chrsemp</th>\n      <th>clhrsemp</th>\n    </tr>\n  </thead>\n  <tbody>\n    <tr>\n      <th>0</th>\n      <td>1987</td>\n      <td>410032.0</td>\n      <td>100.0</td>\n      <td>47000000.0</td>\n      <td>35000.0</td>\n      <td>NaN</td>\n      <td>NaN</td>\n      <td>12.0</td>\n      <td>0</td>\n      <td>0</td>\n      <td>0</td>\n      <td>0</td>\n      <td>100.0</td>\n      <td>12.000000</td>\n      <td>NaN</td>\n      <td>4.605170</td>\n      <td>17.665659</td>\n      <td>NaN</td>\n      <td>2.564949</td>\n      <td>NaN</td>\n      <td>0</td>\n      <td>NaN</td>\n      <td>0</td>\n      <td>NaN</td>\n      <td>NaN</td>\n      <td>10.463103</td>\n      <td>NaN</td>\n      <td>NaN</td>\n      <td>NaN</td>\n      <td>NaN</td>\n    </tr>\n    <tr>\n      <th>1</th>\n      <td>1988</td>\n      <td>410032.0</td>\n      <td>131.0</td>\n      <td>43000000.0</td>\n      <td>37000.0</td>\n      <td>NaN</td>\n      <td>NaN</td>\n      <td>8.0</td>\n      <td>0</td>\n      <td>0</td>\n      <td>0</td>\n      <td>1</td>\n      <td>50.0</td>\n      <td>3.053435</td>\n      <td>NaN</td>\n      <td>4.875197</td>\n      <td>17.576710</td>\n      <td>NaN</td>\n      <td>1.399565</td>\n      <td>NaN</td>\n      <td>0</td>\n      <td>NaN</td>\n      <td>0</td>\n      <td>0.270027</td>\n      <td>-0.088949</td>\n      <td>10.518673</td>\n      <td>0.055570</td>\n      <td>0.0</td>\n      <td>-8.946565</td>\n      <td>-1.165385</td>\n    </tr>\n    <tr>\n      <th>2</th>\n      <td>1989</td>\n      <td>410032.0</td>\n      <td>123.0</td>\n      <td>49000000.0</td>\n      <td>39000.0</td>\n      <td>NaN</td>\n      <td>NaN</td>\n      <td>8.0</td>\n      <td>0</td>\n      <td>0</td>\n      <td>1</td>\n      <td>0</td>\n      <td>50.0</td>\n      <td>3.252033</td>\n      <td>NaN</td>\n      <td>4.812184</td>\n      <td>17.707331</td>\n      <td>NaN</td>\n      <td>1.447397</td>\n      <td>NaN</td>\n      <td>0</td>\n      <td>NaN</td>\n      <td>0</td>\n      <td>-0.063013</td>\n      <td>0.130621</td>\n      <td>10.571317</td>\n      <td>0.052644</td>\n      <td>0.0</td>\n      <td>0.198597</td>\n      <td>0.047832</td>\n    </tr>\n    <tr>\n      <th>3</th>\n      <td>1987</td>\n      <td>410440.0</td>\n      <td>12.0</td>\n      <td>1560000.0</td>\n      <td>10500.0</td>\n      <td>NaN</td>\n      <td>NaN</td>\n      <td>12.0</td>\n      <td>0</td>\n      <td>0</td>\n      <td>0</td>\n      <td>0</td>\n      <td>12.0</td>\n      <td>12.000000</td>\n      <td>NaN</td>\n      <td>2.484907</td>\n      <td>14.260197</td>\n      <td>NaN</td>\n      <td>2.564949</td>\n      <td>NaN</td>\n      <td>0</td>\n      <td>NaN</td>\n      <td>0</td>\n      <td>NaN</td>\n      <td>NaN</td>\n      <td>9.259130</td>\n      <td>NaN</td>\n      <td>NaN</td>\n      <td>NaN</td>\n      <td>NaN</td>\n    </tr>\n    <tr>\n      <th>4</th>\n      <td>1988</td>\n      <td>410440.0</td>\n      <td>13.0</td>\n      <td>1970000.0</td>\n      <td>11000.0</td>\n      <td>NaN</td>\n      <td>NaN</td>\n      <td>12.0</td>\n      <td>0</td>\n      <td>0</td>\n      <td>0</td>\n      <td>1</td>\n      <td>13.0</td>\n      <td>12.000000</td>\n      <td>NaN</td>\n      <td>2.564949</td>\n      <td>14.493544</td>\n      <td>NaN</td>\n      <td>2.564949</td>\n      <td>NaN</td>\n      <td>0</td>\n      <td>NaN</td>\n      <td>0</td>\n      <td>0.080043</td>\n      <td>0.233347</td>\n      <td>9.305651</td>\n      <td>0.046520</td>\n      <td>0.0</td>\n      <td>0.000000</td>\n      <td>0.000000</td>\n    </tr>\n    <tr>\n      <th>...</th>\n      <td>...</td>\n      <td>...</td>\n      <td>...</td>\n      <td>...</td>\n      <td>...</td>\n      <td>...</td>\n      <td>...</td>\n      <td>...</td>\n      <td>...</td>\n      <td>...</td>\n      <td>...</td>\n      <td>...</td>\n      <td>...</td>\n      <td>...</td>\n      <td>...</td>\n      <td>...</td>\n      <td>...</td>\n      <td>...</td>\n      <td>...</td>\n      <td>...</td>\n      <td>...</td>\n      <td>...</td>\n      <td>...</td>\n      <td>...</td>\n      <td>...</td>\n      <td>...</td>\n      <td>...</td>\n      <td>...</td>\n      <td>...</td>\n      <td>...</td>\n    </tr>\n    <tr>\n      <th>466</th>\n      <td>1988</td>\n      <td>419483.0</td>\n      <td>108.0</td>\n      <td>11500000.0</td>\n      <td>14810.0</td>\n      <td>25.0</td>\n      <td>NaN</td>\n      <td>0.0</td>\n      <td>1</td>\n      <td>0</td>\n      <td>0</td>\n      <td>1</td>\n      <td>0.0</td>\n      <td>0.000000</td>\n      <td>3.218876</td>\n      <td>4.682131</td>\n      <td>16.257858</td>\n      <td>NaN</td>\n      <td>0.000000</td>\n      <td>2.995732</td>\n      <td>0</td>\n      <td>0.223144</td>\n      <td>0</td>\n      <td>-0.208218</td>\n      <td>0.044453</td>\n      <td>9.603058</td>\n      <td>0.059321</td>\n      <td>0.0</td>\n      <td>0.000000</td>\n      <td>0.000000</td>\n    </tr>\n    <tr>\n      <th>467</th>\n      <td>1989</td>\n      <td>419483.0</td>\n      <td>129.0</td>\n      <td>12000000.0</td>\n      <td>14227.0</td>\n      <td>30.0</td>\n      <td>NaN</td>\n      <td>20.0</td>\n      <td>1</td>\n      <td>0</td>\n      <td>1</td>\n      <td>0</td>\n      <td>20.0</td>\n      <td>3.100775</td>\n      <td>3.401197</td>\n      <td>4.859812</td>\n      <td>16.300417</td>\n      <td>NaN</td>\n      <td>1.411176</td>\n      <td>3.218876</td>\n      <td>0</td>\n      <td>0.182322</td>\n      <td>0</td>\n      <td>0.177681</td>\n      <td>0.042559</td>\n      <td>9.562897</td>\n      <td>-0.040161</td>\n      <td>0.0</td>\n      <td>3.100775</td>\n      <td>1.411176</td>\n    </tr>\n    <tr>\n      <th>468</th>\n      <td>1987</td>\n      <td>419486.0</td>\n      <td>80.0</td>\n      <td>7000000.0</td>\n      <td>16000.0</td>\n      <td>NaN</td>\n      <td>NaN</td>\n      <td>0.0</td>\n      <td>0</td>\n      <td>0</td>\n      <td>0</td>\n      <td>0</td>\n      <td>0.0</td>\n      <td>0.000000</td>\n      <td>NaN</td>\n      <td>4.382027</td>\n      <td>15.761420</td>\n      <td>NaN</td>\n      <td>0.000000</td>\n      <td>NaN</td>\n      <td>0</td>\n      <td>NaN</td>\n      <td>0</td>\n      <td>NaN</td>\n      <td>NaN</td>\n      <td>9.680344</td>\n      <td>NaN</td>\n      <td>NaN</td>\n      <td>NaN</td>\n      <td>NaN</td>\n    </tr>\n    <tr>\n      <th>469</th>\n      <td>1988</td>\n      <td>419486.0</td>\n      <td>90.0</td>\n      <td>8500000.0</td>\n      <td>17000.0</td>\n      <td>NaN</td>\n      <td>NaN</td>\n      <td>0.0</td>\n      <td>0</td>\n      <td>0</td>\n      <td>0</td>\n      <td>1</td>\n      <td>0.0</td>\n      <td>0.000000</td>\n      <td>NaN</td>\n      <td>4.499810</td>\n      <td>15.955577</td>\n      <td>NaN</td>\n      <td>0.000000</td>\n      <td>NaN</td>\n      <td>0</td>\n      <td>NaN</td>\n      <td>0</td>\n      <td>0.117783</td>\n      <td>0.194157</td>\n      <td>9.740969</td>\n      <td>0.060625</td>\n      <td>0.0</td>\n      <td>0.000000</td>\n      <td>0.000000</td>\n    </tr>\n    <tr>\n      <th>470</th>\n      <td>1989</td>\n      <td>419486.0</td>\n      <td>100.0</td>\n      <td>9900000.0</td>\n      <td>18000.0</td>\n      <td>NaN</td>\n      <td>NaN</td>\n      <td>40.0</td>\n      <td>0</td>\n      <td>1</td>\n      <td>1</td>\n      <td>0</td>\n      <td>90.0</td>\n      <td>36.000000</td>\n      <td>NaN</td>\n      <td>4.605170</td>\n      <td>16.108046</td>\n      <td>NaN</td>\n      <td>3.610918</td>\n      <td>NaN</td>\n      <td>0</td>\n      <td>NaN</td>\n      <td>1</td>\n      <td>0.105361</td>\n      <td>0.152469</td>\n      <td>9.798127</td>\n      <td>0.057158</td>\n      <td>0.0</td>\n      <td>36.000000</td>\n      <td>3.610918</td>\n    </tr>\n  </tbody>\n</table>\n<p>471 rows × 30 columns</p>\n</div>"
     },
     "metadata": {},
     "execution_count": 556
    }
   ],
   "source": [
    "df"
   ]
  },
  {
   "cell_type": "code",
   "execution_count": 557,
   "metadata": {},
   "outputs": [],
   "source": [
    "df[\"firm_sub_1988\"] = (df[\"year\"] == 1988) & (df[\"grant\"] == 1).astype(int)\n",
    "df[\"firm_sub_1989\"] = (df[\"year\"] == 1989) & (df[\"grant\"] == 1).astype(int)\n",
    "df[\"firm_sub_not\"] = (df[\"grant\"] == 0).astype(int)"
   ]
  },
  {
   "cell_type": "code",
   "execution_count": 558,
   "metadata": {},
   "outputs": [
    {
     "output_type": "execute_result",
     "data": {
      "text/plain": [
       "     year     fcode  grant  firm_sub_1988  firm_sub_1989  firm_sub_not\n",
       "170  1989  410680.0      0          False          False             1\n",
       "171  1987  410685.0      0          False          False             1\n",
       "172  1988  410685.0      0          False          False             1\n",
       "173  1989  410685.0      0          False          False             1\n",
       "174  1987  410686.0      0          False          False             1\n",
       "175  1988  410686.0      0          False          False             1\n",
       "176  1989  410686.0      0          False          False             1\n",
       "177  1987  418006.0      0          False          False             1\n",
       "178  1988  418006.0      1           True          False             0\n",
       "179  1989  418006.0      0          False          False             1\n",
       "180  1987  418007.0      0          False          False             1\n",
       "181  1988  418007.0      0          False          False             1\n",
       "182  1989  418007.0      0          False          False             1\n",
       "183  1987  418008.0      0          False          False             1\n",
       "184  1988  418008.0      1           True          False             0\n",
       "185  1989  418008.0      0          False          False             1\n",
       "186  1987  418011.0      0          False          False             1\n",
       "187  1988  418011.0      1           True          False             0\n",
       "188  1989  418011.0      0          False          False             1\n",
       "189  1987  418013.0      0          False          False             1"
      ],
      "text/html": "<div>\n<style scoped>\n    .dataframe tbody tr th:only-of-type {\n        vertical-align: middle;\n    }\n\n    .dataframe tbody tr th {\n        vertical-align: top;\n    }\n\n    .dataframe thead th {\n        text-align: right;\n    }\n</style>\n<table border=\"1\" class=\"dataframe\">\n  <thead>\n    <tr style=\"text-align: right;\">\n      <th></th>\n      <th>year</th>\n      <th>fcode</th>\n      <th>grant</th>\n      <th>firm_sub_1988</th>\n      <th>firm_sub_1989</th>\n      <th>firm_sub_not</th>\n    </tr>\n  </thead>\n  <tbody>\n    <tr>\n      <th>170</th>\n      <td>1989</td>\n      <td>410680.0</td>\n      <td>0</td>\n      <td>False</td>\n      <td>False</td>\n      <td>1</td>\n    </tr>\n    <tr>\n      <th>171</th>\n      <td>1987</td>\n      <td>410685.0</td>\n      <td>0</td>\n      <td>False</td>\n      <td>False</td>\n      <td>1</td>\n    </tr>\n    <tr>\n      <th>172</th>\n      <td>1988</td>\n      <td>410685.0</td>\n      <td>0</td>\n      <td>False</td>\n      <td>False</td>\n      <td>1</td>\n    </tr>\n    <tr>\n      <th>173</th>\n      <td>1989</td>\n      <td>410685.0</td>\n      <td>0</td>\n      <td>False</td>\n      <td>False</td>\n      <td>1</td>\n    </tr>\n    <tr>\n      <th>174</th>\n      <td>1987</td>\n      <td>410686.0</td>\n      <td>0</td>\n      <td>False</td>\n      <td>False</td>\n      <td>1</td>\n    </tr>\n    <tr>\n      <th>175</th>\n      <td>1988</td>\n      <td>410686.0</td>\n      <td>0</td>\n      <td>False</td>\n      <td>False</td>\n      <td>1</td>\n    </tr>\n    <tr>\n      <th>176</th>\n      <td>1989</td>\n      <td>410686.0</td>\n      <td>0</td>\n      <td>False</td>\n      <td>False</td>\n      <td>1</td>\n    </tr>\n    <tr>\n      <th>177</th>\n      <td>1987</td>\n      <td>418006.0</td>\n      <td>0</td>\n      <td>False</td>\n      <td>False</td>\n      <td>1</td>\n    </tr>\n    <tr>\n      <th>178</th>\n      <td>1988</td>\n      <td>418006.0</td>\n      <td>1</td>\n      <td>True</td>\n      <td>False</td>\n      <td>0</td>\n    </tr>\n    <tr>\n      <th>179</th>\n      <td>1989</td>\n      <td>418006.0</td>\n      <td>0</td>\n      <td>False</td>\n      <td>False</td>\n      <td>1</td>\n    </tr>\n    <tr>\n      <th>180</th>\n      <td>1987</td>\n      <td>418007.0</td>\n      <td>0</td>\n      <td>False</td>\n      <td>False</td>\n      <td>1</td>\n    </tr>\n    <tr>\n      <th>181</th>\n      <td>1988</td>\n      <td>418007.0</td>\n      <td>0</td>\n      <td>False</td>\n      <td>False</td>\n      <td>1</td>\n    </tr>\n    <tr>\n      <th>182</th>\n      <td>1989</td>\n      <td>418007.0</td>\n      <td>0</td>\n      <td>False</td>\n      <td>False</td>\n      <td>1</td>\n    </tr>\n    <tr>\n      <th>183</th>\n      <td>1987</td>\n      <td>418008.0</td>\n      <td>0</td>\n      <td>False</td>\n      <td>False</td>\n      <td>1</td>\n    </tr>\n    <tr>\n      <th>184</th>\n      <td>1988</td>\n      <td>418008.0</td>\n      <td>1</td>\n      <td>True</td>\n      <td>False</td>\n      <td>0</td>\n    </tr>\n    <tr>\n      <th>185</th>\n      <td>1989</td>\n      <td>418008.0</td>\n      <td>0</td>\n      <td>False</td>\n      <td>False</td>\n      <td>1</td>\n    </tr>\n    <tr>\n      <th>186</th>\n      <td>1987</td>\n      <td>418011.0</td>\n      <td>0</td>\n      <td>False</td>\n      <td>False</td>\n      <td>1</td>\n    </tr>\n    <tr>\n      <th>187</th>\n      <td>1988</td>\n      <td>418011.0</td>\n      <td>1</td>\n      <td>True</td>\n      <td>False</td>\n      <td>0</td>\n    </tr>\n    <tr>\n      <th>188</th>\n      <td>1989</td>\n      <td>418011.0</td>\n      <td>0</td>\n      <td>False</td>\n      <td>False</td>\n      <td>1</td>\n    </tr>\n    <tr>\n      <th>189</th>\n      <td>1987</td>\n      <td>418013.0</td>\n      <td>0</td>\n      <td>False</td>\n      <td>False</td>\n      <td>1</td>\n    </tr>\n  </tbody>\n</table>\n</div>"
     },
     "metadata": {},
     "execution_count": 558
    }
   ],
   "source": [
    "df.iloc[170:190][[\"year\", \"fcode\", \"grant\", \"firm_sub_1988\", \"firm_sub_1989\", \"firm_sub_not\"]]"
   ]
  },
  {
   "cell_type": "code",
   "execution_count": 560,
   "metadata": {},
   "outputs": [
    {
     "output_type": "execute_result",
     "data": {
      "text/plain": [
       "   year     fcode  employ       sales   avgsal  scrap  rework  tothrs  union  \\\n",
       "0  1987  410032.0   100.0  47000000.0  35000.0    NaN     NaN    12.0      0   \n",
       "1  1988  410032.0   131.0  43000000.0  37000.0    NaN     NaN     8.0      0   \n",
       "2  1989  410032.0   123.0  49000000.0  39000.0    NaN     NaN     8.0      0   \n",
       "3  1987  410440.0    12.0   1560000.0  10500.0    NaN     NaN    12.0      0   \n",
       "4  1988  410440.0    13.0   1970000.0  11000.0    NaN     NaN    12.0      0   \n",
       "\n",
       "   grant  d89  d88  totrain     hrsemp  lscrap   lemploy     lsales  lrework  \\\n",
       "0      0    0    0    100.0  12.000000     NaN  4.605170  17.665659      NaN   \n",
       "1      0    0    1     50.0   3.053435     NaN  4.875197  17.576710      NaN   \n",
       "2      0    1    0     50.0   3.252033     NaN  4.812184  17.707331      NaN   \n",
       "3      0    0    0     12.0  12.000000     NaN  2.484907  14.260197      NaN   \n",
       "4      0    0    1     13.0  12.000000     NaN  2.564949  14.493544      NaN   \n",
       "\n",
       "    lhrsemp  lscrap_1  grant_1  clscrap  cgrant  clemploy   clsales  \\\n",
       "0  2.564949       NaN        0      NaN       0       NaN       NaN   \n",
       "1  1.399565       NaN        0      NaN       0  0.270027 -0.088949   \n",
       "2  1.447397       NaN        0      NaN       0 -0.063013  0.130621   \n",
       "3  2.564949       NaN        0      NaN       0       NaN       NaN   \n",
       "4  2.564949       NaN        0      NaN       0  0.080043  0.233347   \n",
       "\n",
       "     lavgsal  clavgsal  cgrant_1   chrsemp  clhrsemp  firm_sub_1988  \\\n",
       "0  10.463103       NaN       NaN       NaN       NaN          False   \n",
       "1  10.518673  0.055570       0.0 -8.946565 -1.165385          False   \n",
       "2  10.571317  0.052644       0.0  0.198597  0.047832          False   \n",
       "3   9.259130       NaN       NaN       NaN       NaN          False   \n",
       "4   9.305651  0.046520       0.0  0.000000  0.000000          False   \n",
       "\n",
       "   firm_sub_1989  firm_sub_not  \n",
       "0          False             1  \n",
       "1          False             1  \n",
       "2          False             1  \n",
       "3          False             1  \n",
       "4          False             1  "
      ],
      "text/html": "<div>\n<style scoped>\n    .dataframe tbody tr th:only-of-type {\n        vertical-align: middle;\n    }\n\n    .dataframe tbody tr th {\n        vertical-align: top;\n    }\n\n    .dataframe thead th {\n        text-align: right;\n    }\n</style>\n<table border=\"1\" class=\"dataframe\">\n  <thead>\n    <tr style=\"text-align: right;\">\n      <th></th>\n      <th>year</th>\n      <th>fcode</th>\n      <th>employ</th>\n      <th>sales</th>\n      <th>avgsal</th>\n      <th>scrap</th>\n      <th>rework</th>\n      <th>tothrs</th>\n      <th>union</th>\n      <th>grant</th>\n      <th>d89</th>\n      <th>d88</th>\n      <th>totrain</th>\n      <th>hrsemp</th>\n      <th>lscrap</th>\n      <th>lemploy</th>\n      <th>lsales</th>\n      <th>lrework</th>\n      <th>lhrsemp</th>\n      <th>lscrap_1</th>\n      <th>grant_1</th>\n      <th>clscrap</th>\n      <th>cgrant</th>\n      <th>clemploy</th>\n      <th>clsales</th>\n      <th>lavgsal</th>\n      <th>clavgsal</th>\n      <th>cgrant_1</th>\n      <th>chrsemp</th>\n      <th>clhrsemp</th>\n      <th>firm_sub_1988</th>\n      <th>firm_sub_1989</th>\n      <th>firm_sub_not</th>\n    </tr>\n  </thead>\n  <tbody>\n    <tr>\n      <th>0</th>\n      <td>1987</td>\n      <td>410032.0</td>\n      <td>100.0</td>\n      <td>47000000.0</td>\n      <td>35000.0</td>\n      <td>NaN</td>\n      <td>NaN</td>\n      <td>12.0</td>\n      <td>0</td>\n      <td>0</td>\n      <td>0</td>\n      <td>0</td>\n      <td>100.0</td>\n      <td>12.000000</td>\n      <td>NaN</td>\n      <td>4.605170</td>\n      <td>17.665659</td>\n      <td>NaN</td>\n      <td>2.564949</td>\n      <td>NaN</td>\n      <td>0</td>\n      <td>NaN</td>\n      <td>0</td>\n      <td>NaN</td>\n      <td>NaN</td>\n      <td>10.463103</td>\n      <td>NaN</td>\n      <td>NaN</td>\n      <td>NaN</td>\n      <td>NaN</td>\n      <td>False</td>\n      <td>False</td>\n      <td>1</td>\n    </tr>\n    <tr>\n      <th>1</th>\n      <td>1988</td>\n      <td>410032.0</td>\n      <td>131.0</td>\n      <td>43000000.0</td>\n      <td>37000.0</td>\n      <td>NaN</td>\n      <td>NaN</td>\n      <td>8.0</td>\n      <td>0</td>\n      <td>0</td>\n      <td>0</td>\n      <td>1</td>\n      <td>50.0</td>\n      <td>3.053435</td>\n      <td>NaN</td>\n      <td>4.875197</td>\n      <td>17.576710</td>\n      <td>NaN</td>\n      <td>1.399565</td>\n      <td>NaN</td>\n      <td>0</td>\n      <td>NaN</td>\n      <td>0</td>\n      <td>0.270027</td>\n      <td>-0.088949</td>\n      <td>10.518673</td>\n      <td>0.055570</td>\n      <td>0.0</td>\n      <td>-8.946565</td>\n      <td>-1.165385</td>\n      <td>False</td>\n      <td>False</td>\n      <td>1</td>\n    </tr>\n    <tr>\n      <th>2</th>\n      <td>1989</td>\n      <td>410032.0</td>\n      <td>123.0</td>\n      <td>49000000.0</td>\n      <td>39000.0</td>\n      <td>NaN</td>\n      <td>NaN</td>\n      <td>8.0</td>\n      <td>0</td>\n      <td>0</td>\n      <td>1</td>\n      <td>0</td>\n      <td>50.0</td>\n      <td>3.252033</td>\n      <td>NaN</td>\n      <td>4.812184</td>\n      <td>17.707331</td>\n      <td>NaN</td>\n      <td>1.447397</td>\n      <td>NaN</td>\n      <td>0</td>\n      <td>NaN</td>\n      <td>0</td>\n      <td>-0.063013</td>\n      <td>0.130621</td>\n      <td>10.571317</td>\n      <td>0.052644</td>\n      <td>0.0</td>\n      <td>0.198597</td>\n      <td>0.047832</td>\n      <td>False</td>\n      <td>False</td>\n      <td>1</td>\n    </tr>\n    <tr>\n      <th>3</th>\n      <td>1987</td>\n      <td>410440.0</td>\n      <td>12.0</td>\n      <td>1560000.0</td>\n      <td>10500.0</td>\n      <td>NaN</td>\n      <td>NaN</td>\n      <td>12.0</td>\n      <td>0</td>\n      <td>0</td>\n      <td>0</td>\n      <td>0</td>\n      <td>12.0</td>\n      <td>12.000000</td>\n      <td>NaN</td>\n      <td>2.484907</td>\n      <td>14.260197</td>\n      <td>NaN</td>\n      <td>2.564949</td>\n      <td>NaN</td>\n      <td>0</td>\n      <td>NaN</td>\n      <td>0</td>\n      <td>NaN</td>\n      <td>NaN</td>\n      <td>9.259130</td>\n      <td>NaN</td>\n      <td>NaN</td>\n      <td>NaN</td>\n      <td>NaN</td>\n      <td>False</td>\n      <td>False</td>\n      <td>1</td>\n    </tr>\n    <tr>\n      <th>4</th>\n      <td>1988</td>\n      <td>410440.0</td>\n      <td>13.0</td>\n      <td>1970000.0</td>\n      <td>11000.0</td>\n      <td>NaN</td>\n      <td>NaN</td>\n      <td>12.0</td>\n      <td>0</td>\n      <td>0</td>\n      <td>0</td>\n      <td>1</td>\n      <td>13.0</td>\n      <td>12.000000</td>\n      <td>NaN</td>\n      <td>2.564949</td>\n      <td>14.493544</td>\n      <td>NaN</td>\n      <td>2.564949</td>\n      <td>NaN</td>\n      <td>0</td>\n      <td>NaN</td>\n      <td>0</td>\n      <td>0.080043</td>\n      <td>0.233347</td>\n      <td>9.305651</td>\n      <td>0.046520</td>\n      <td>0.0</td>\n      <td>0.000000</td>\n      <td>0.000000</td>\n      <td>False</td>\n      <td>False</td>\n      <td>1</td>\n    </tr>\n  </tbody>\n</table>\n</div>"
     },
     "metadata": {},
     "execution_count": 560
    }
   ],
   "source": [
    "df.head()"
   ]
  },
  {
   "cell_type": "code",
   "execution_count": 561,
   "metadata": {},
   "outputs": [],
   "source": [
    "df = pd.concat([df.set_index(\"fcode\"), df.groupby([\"fcode\"])[\"firm_sub_1988\"].max().astype(int).rename(\"grant_1988\")], axis=1).reset_index()\r\n",
    "df = pd.concat([df.set_index(\"fcode\"), df.groupby([\"fcode\"])[\"firm_sub_1989\"].max().astype(int).rename(\"grant_1989\")], axis=1).reset_index()\r\n",
    "df = pd.concat([df.set_index(\"fcode\"), (df.groupby([\"fcode\"])[\"firm_sub_not\"].sum() == 3).astype(int).astype(int).rename(\"grant_no\")], axis=1).reset_index()"
   ]
  },
  {
   "cell_type": "code",
   "execution_count": 562,
   "metadata": {},
   "outputs": [
    {
     "output_type": "execute_result",
     "data": {
      "text/plain": [
       "fcode\n",
       "410032.0    1\n",
       "410440.0    1\n",
       "410495.0    1\n",
       "410500.0    1\n",
       "410501.0    1\n",
       "           ..\n",
       "419473.0    0\n",
       "419479.0    1\n",
       "419482.0    1\n",
       "419483.0    1\n",
       "419486.0    0\n",
       "Name: firm_sub_not, Length: 157, dtype: int32"
      ]
     },
     "metadata": {},
     "execution_count": 562
    }
   ],
   "source": [
    "(df.groupby([\"fcode\"])[\"firm_sub_not\"].sum() == 3).astype(int)"
   ]
  },
  {
   "cell_type": "code",
   "execution_count": 563,
   "metadata": {},
   "outputs": [
    {
     "output_type": "execute_result",
     "data": {
      "text/plain": [
       "        fcode  year  employ      sales   avgsal  scrap  rework  tothrs  union  \\\n",
       "170  410680.0  1989    52.0  5670000.0  22360.0    NaN     NaN    70.0      0   \n",
       "171  410685.0  1987    24.0  2213235.0  20004.0   0.14     NaN     NaN      0   \n",
       "172  410685.0  1988    20.0  2100943.0  19078.0   0.16     NaN     NaN      0   \n",
       "173  410685.0  1989    20.0  2174049.0  21099.0   0.23     NaN     NaN      0   \n",
       "174  410686.0  1987     6.0  2100000.0  16640.0    NaN     NaN     0.0      0   \n",
       "175  410686.0  1988     7.0  1800000.0  18720.0    NaN     NaN    10.0      0   \n",
       "176  410686.0  1989     6.0  1600000.0  20800.0    NaN     NaN     0.0      0   \n",
       "177  418006.0  1987    63.0        NaN  25900.0    NaN     NaN     0.0      0   \n",
       "178  418006.0  1988    57.0        NaN  25300.0    NaN     NaN    45.0      0   \n",
       "179  418006.0  1989    59.0        NaN  26800.0    NaN     NaN    40.0      0   \n",
       "\n",
       "     grant  d89  d88  totrain     hrsemp    lscrap   lemploy     lsales  \\\n",
       "170      0    1    0      9.0  12.115385       NaN  3.951244  15.550699   \n",
       "171      0    0    0     24.0        NaN -1.966113  3.178054  14.609966   \n",
       "172      0    0    1     20.0        NaN -1.832582  2.995732  14.557897   \n",
       "173      0    1    0     20.0        NaN -1.469676  2.995732  14.592102   \n",
       "174      0    0    0      0.0   0.000000       NaN  1.791759  14.557447   \n",
       "175      0    0    1      2.0   2.857143       NaN  1.945910  14.403297   \n",
       "176      0    1    0      0.0   0.000000       NaN  1.791759  14.285514   \n",
       "177      0    0    0      0.0   0.000000       NaN  4.143135        NaN   \n",
       "178      1    0    1     24.0  18.947369       NaN  4.043051        NaN   \n",
       "179      0    1    0     35.0  23.728813       NaN  4.077538        NaN   \n",
       "\n",
       "     lrework   lhrsemp  lscrap_1  grant_1   clscrap  cgrant  clemploy  \\\n",
       "170      NaN  2.573786       NaN        0       NaN       0 -0.159630   \n",
       "171      NaN       NaN       NaN        0       NaN       0       NaN   \n",
       "172      NaN       NaN -1.966113        0  0.133531       0 -0.182322   \n",
       "173      NaN       NaN -1.832582        0  0.362906       0  0.000000   \n",
       "174      NaN  0.000000       NaN        0       NaN       0       NaN   \n",
       "175      NaN  1.349927       NaN        0       NaN       0  0.154151   \n",
       "176      NaN  0.000000       NaN        0       NaN       0 -0.154151   \n",
       "177      NaN  0.000000       NaN        0       NaN       0       NaN   \n",
       "178      NaN  2.993097       NaN        0       NaN       1 -0.100083   \n",
       "179      NaN  3.207969       NaN        1       NaN      -1  0.034486   \n",
       "\n",
       "      clsales    lavgsal  clavgsal  cgrant_1    chrsemp  clhrsemp  \\\n",
       "170 -0.072608  10.015029  0.057054       0.0   8.017025  0.944867   \n",
       "171       NaN   9.903687       NaN       NaN        NaN       NaN   \n",
       "172 -0.052070   9.856291 -0.047397       0.0        NaN       NaN   \n",
       "173  0.034205   9.956981  0.100690       0.0        NaN       NaN   \n",
       "174       NaN   9.719564       NaN       NaN        NaN       NaN   \n",
       "175 -0.154150   9.837348  0.117784       0.0   2.857143  1.349927   \n",
       "176 -0.117784   9.942708  0.105360       0.0  -2.857143 -1.349927   \n",
       "177       NaN  10.161998       NaN       NaN        NaN       NaN   \n",
       "178       NaN  10.138559 -0.023438       0.0  18.947369  2.993097   \n",
       "179       NaN  10.196157  0.057598       1.0   4.781445  0.214872   \n",
       "\n",
       "     firm_sub_1988  firm_sub_1989  firm_sub_not  grant_1988  grant_1989  \\\n",
       "170          False          False             1           0           0   \n",
       "171          False          False             1           0           0   \n",
       "172          False          False             1           0           0   \n",
       "173          False          False             1           0           0   \n",
       "174          False          False             1           0           0   \n",
       "175          False          False             1           0           0   \n",
       "176          False          False             1           0           0   \n",
       "177          False          False             1           1           0   \n",
       "178           True          False             0           1           0   \n",
       "179          False          False             1           1           0   \n",
       "\n",
       "     grant_no  \n",
       "170         1  \n",
       "171         1  \n",
       "172         1  \n",
       "173         1  \n",
       "174         1  \n",
       "175         1  \n",
       "176         1  \n",
       "177         0  \n",
       "178         0  \n",
       "179         0  "
      ],
      "text/html": "<div>\n<style scoped>\n    .dataframe tbody tr th:only-of-type {\n        vertical-align: middle;\n    }\n\n    .dataframe tbody tr th {\n        vertical-align: top;\n    }\n\n    .dataframe thead th {\n        text-align: right;\n    }\n</style>\n<table border=\"1\" class=\"dataframe\">\n  <thead>\n    <tr style=\"text-align: right;\">\n      <th></th>\n      <th>fcode</th>\n      <th>year</th>\n      <th>employ</th>\n      <th>sales</th>\n      <th>avgsal</th>\n      <th>scrap</th>\n      <th>rework</th>\n      <th>tothrs</th>\n      <th>union</th>\n      <th>grant</th>\n      <th>d89</th>\n      <th>d88</th>\n      <th>totrain</th>\n      <th>hrsemp</th>\n      <th>lscrap</th>\n      <th>lemploy</th>\n      <th>lsales</th>\n      <th>lrework</th>\n      <th>lhrsemp</th>\n      <th>lscrap_1</th>\n      <th>grant_1</th>\n      <th>clscrap</th>\n      <th>cgrant</th>\n      <th>clemploy</th>\n      <th>clsales</th>\n      <th>lavgsal</th>\n      <th>clavgsal</th>\n      <th>cgrant_1</th>\n      <th>chrsemp</th>\n      <th>clhrsemp</th>\n      <th>firm_sub_1988</th>\n      <th>firm_sub_1989</th>\n      <th>firm_sub_not</th>\n      <th>grant_1988</th>\n      <th>grant_1989</th>\n      <th>grant_no</th>\n    </tr>\n  </thead>\n  <tbody>\n    <tr>\n      <th>170</th>\n      <td>410680.0</td>\n      <td>1989</td>\n      <td>52.0</td>\n      <td>5670000.0</td>\n      <td>22360.0</td>\n      <td>NaN</td>\n      <td>NaN</td>\n      <td>70.0</td>\n      <td>0</td>\n      <td>0</td>\n      <td>1</td>\n      <td>0</td>\n      <td>9.0</td>\n      <td>12.115385</td>\n      <td>NaN</td>\n      <td>3.951244</td>\n      <td>15.550699</td>\n      <td>NaN</td>\n      <td>2.573786</td>\n      <td>NaN</td>\n      <td>0</td>\n      <td>NaN</td>\n      <td>0</td>\n      <td>-0.159630</td>\n      <td>-0.072608</td>\n      <td>10.015029</td>\n      <td>0.057054</td>\n      <td>0.0</td>\n      <td>8.017025</td>\n      <td>0.944867</td>\n      <td>False</td>\n      <td>False</td>\n      <td>1</td>\n      <td>0</td>\n      <td>0</td>\n      <td>1</td>\n    </tr>\n    <tr>\n      <th>171</th>\n      <td>410685.0</td>\n      <td>1987</td>\n      <td>24.0</td>\n      <td>2213235.0</td>\n      <td>20004.0</td>\n      <td>0.14</td>\n      <td>NaN</td>\n      <td>NaN</td>\n      <td>0</td>\n      <td>0</td>\n      <td>0</td>\n      <td>0</td>\n      <td>24.0</td>\n      <td>NaN</td>\n      <td>-1.966113</td>\n      <td>3.178054</td>\n      <td>14.609966</td>\n      <td>NaN</td>\n      <td>NaN</td>\n      <td>NaN</td>\n      <td>0</td>\n      <td>NaN</td>\n      <td>0</td>\n      <td>NaN</td>\n      <td>NaN</td>\n      <td>9.903687</td>\n      <td>NaN</td>\n      <td>NaN</td>\n      <td>NaN</td>\n      <td>NaN</td>\n      <td>False</td>\n      <td>False</td>\n      <td>1</td>\n      <td>0</td>\n      <td>0</td>\n      <td>1</td>\n    </tr>\n    <tr>\n      <th>172</th>\n      <td>410685.0</td>\n      <td>1988</td>\n      <td>20.0</td>\n      <td>2100943.0</td>\n      <td>19078.0</td>\n      <td>0.16</td>\n      <td>NaN</td>\n      <td>NaN</td>\n      <td>0</td>\n      <td>0</td>\n      <td>0</td>\n      <td>1</td>\n      <td>20.0</td>\n      <td>NaN</td>\n      <td>-1.832582</td>\n      <td>2.995732</td>\n      <td>14.557897</td>\n      <td>NaN</td>\n      <td>NaN</td>\n      <td>-1.966113</td>\n      <td>0</td>\n      <td>0.133531</td>\n      <td>0</td>\n      <td>-0.182322</td>\n      <td>-0.052070</td>\n      <td>9.856291</td>\n      <td>-0.047397</td>\n      <td>0.0</td>\n      <td>NaN</td>\n      <td>NaN</td>\n      <td>False</td>\n      <td>False</td>\n      <td>1</td>\n      <td>0</td>\n      <td>0</td>\n      <td>1</td>\n    </tr>\n    <tr>\n      <th>173</th>\n      <td>410685.0</td>\n      <td>1989</td>\n      <td>20.0</td>\n      <td>2174049.0</td>\n      <td>21099.0</td>\n      <td>0.23</td>\n      <td>NaN</td>\n      <td>NaN</td>\n      <td>0</td>\n      <td>0</td>\n      <td>1</td>\n      <td>0</td>\n      <td>20.0</td>\n      <td>NaN</td>\n      <td>-1.469676</td>\n      <td>2.995732</td>\n      <td>14.592102</td>\n      <td>NaN</td>\n      <td>NaN</td>\n      <td>-1.832582</td>\n      <td>0</td>\n      <td>0.362906</td>\n      <td>0</td>\n      <td>0.000000</td>\n      <td>0.034205</td>\n      <td>9.956981</td>\n      <td>0.100690</td>\n      <td>0.0</td>\n      <td>NaN</td>\n      <td>NaN</td>\n      <td>False</td>\n      <td>False</td>\n      <td>1</td>\n      <td>0</td>\n      <td>0</td>\n      <td>1</td>\n    </tr>\n    <tr>\n      <th>174</th>\n      <td>410686.0</td>\n      <td>1987</td>\n      <td>6.0</td>\n      <td>2100000.0</td>\n      <td>16640.0</td>\n      <td>NaN</td>\n      <td>NaN</td>\n      <td>0.0</td>\n      <td>0</td>\n      <td>0</td>\n      <td>0</td>\n      <td>0</td>\n      <td>0.0</td>\n      <td>0.000000</td>\n      <td>NaN</td>\n      <td>1.791759</td>\n      <td>14.557447</td>\n      <td>NaN</td>\n      <td>0.000000</td>\n      <td>NaN</td>\n      <td>0</td>\n      <td>NaN</td>\n      <td>0</td>\n      <td>NaN</td>\n      <td>NaN</td>\n      <td>9.719564</td>\n      <td>NaN</td>\n      <td>NaN</td>\n      <td>NaN</td>\n      <td>NaN</td>\n      <td>False</td>\n      <td>False</td>\n      <td>1</td>\n      <td>0</td>\n      <td>0</td>\n      <td>1</td>\n    </tr>\n    <tr>\n      <th>175</th>\n      <td>410686.0</td>\n      <td>1988</td>\n      <td>7.0</td>\n      <td>1800000.0</td>\n      <td>18720.0</td>\n      <td>NaN</td>\n      <td>NaN</td>\n      <td>10.0</td>\n      <td>0</td>\n      <td>0</td>\n      <td>0</td>\n      <td>1</td>\n      <td>2.0</td>\n      <td>2.857143</td>\n      <td>NaN</td>\n      <td>1.945910</td>\n      <td>14.403297</td>\n      <td>NaN</td>\n      <td>1.349927</td>\n      <td>NaN</td>\n      <td>0</td>\n      <td>NaN</td>\n      <td>0</td>\n      <td>0.154151</td>\n      <td>-0.154150</td>\n      <td>9.837348</td>\n      <td>0.117784</td>\n      <td>0.0</td>\n      <td>2.857143</td>\n      <td>1.349927</td>\n      <td>False</td>\n      <td>False</td>\n      <td>1</td>\n      <td>0</td>\n      <td>0</td>\n      <td>1</td>\n    </tr>\n    <tr>\n      <th>176</th>\n      <td>410686.0</td>\n      <td>1989</td>\n      <td>6.0</td>\n      <td>1600000.0</td>\n      <td>20800.0</td>\n      <td>NaN</td>\n      <td>NaN</td>\n      <td>0.0</td>\n      <td>0</td>\n      <td>0</td>\n      <td>1</td>\n      <td>0</td>\n      <td>0.0</td>\n      <td>0.000000</td>\n      <td>NaN</td>\n      <td>1.791759</td>\n      <td>14.285514</td>\n      <td>NaN</td>\n      <td>0.000000</td>\n      <td>NaN</td>\n      <td>0</td>\n      <td>NaN</td>\n      <td>0</td>\n      <td>-0.154151</td>\n      <td>-0.117784</td>\n      <td>9.942708</td>\n      <td>0.105360</td>\n      <td>0.0</td>\n      <td>-2.857143</td>\n      <td>-1.349927</td>\n      <td>False</td>\n      <td>False</td>\n      <td>1</td>\n      <td>0</td>\n      <td>0</td>\n      <td>1</td>\n    </tr>\n    <tr>\n      <th>177</th>\n      <td>418006.0</td>\n      <td>1987</td>\n      <td>63.0</td>\n      <td>NaN</td>\n      <td>25900.0</td>\n      <td>NaN</td>\n      <td>NaN</td>\n      <td>0.0</td>\n      <td>0</td>\n      <td>0</td>\n      <td>0</td>\n      <td>0</td>\n      <td>0.0</td>\n      <td>0.000000</td>\n      <td>NaN</td>\n      <td>4.143135</td>\n      <td>NaN</td>\n      <td>NaN</td>\n      <td>0.000000</td>\n      <td>NaN</td>\n      <td>0</td>\n      <td>NaN</td>\n      <td>0</td>\n      <td>NaN</td>\n      <td>NaN</td>\n      <td>10.161998</td>\n      <td>NaN</td>\n      <td>NaN</td>\n      <td>NaN</td>\n      <td>NaN</td>\n      <td>False</td>\n      <td>False</td>\n      <td>1</td>\n      <td>1</td>\n      <td>0</td>\n      <td>0</td>\n    </tr>\n    <tr>\n      <th>178</th>\n      <td>418006.0</td>\n      <td>1988</td>\n      <td>57.0</td>\n      <td>NaN</td>\n      <td>25300.0</td>\n      <td>NaN</td>\n      <td>NaN</td>\n      <td>45.0</td>\n      <td>0</td>\n      <td>1</td>\n      <td>0</td>\n      <td>1</td>\n      <td>24.0</td>\n      <td>18.947369</td>\n      <td>NaN</td>\n      <td>4.043051</td>\n      <td>NaN</td>\n      <td>NaN</td>\n      <td>2.993097</td>\n      <td>NaN</td>\n      <td>0</td>\n      <td>NaN</td>\n      <td>1</td>\n      <td>-0.100083</td>\n      <td>NaN</td>\n      <td>10.138559</td>\n      <td>-0.023438</td>\n      <td>0.0</td>\n      <td>18.947369</td>\n      <td>2.993097</td>\n      <td>True</td>\n      <td>False</td>\n      <td>0</td>\n      <td>1</td>\n      <td>0</td>\n      <td>0</td>\n    </tr>\n    <tr>\n      <th>179</th>\n      <td>418006.0</td>\n      <td>1989</td>\n      <td>59.0</td>\n      <td>NaN</td>\n      <td>26800.0</td>\n      <td>NaN</td>\n      <td>NaN</td>\n      <td>40.0</td>\n      <td>0</td>\n      <td>0</td>\n      <td>1</td>\n      <td>0</td>\n      <td>35.0</td>\n      <td>23.728813</td>\n      <td>NaN</td>\n      <td>4.077538</td>\n      <td>NaN</td>\n      <td>NaN</td>\n      <td>3.207969</td>\n      <td>NaN</td>\n      <td>1</td>\n      <td>NaN</td>\n      <td>-1</td>\n      <td>0.034486</td>\n      <td>NaN</td>\n      <td>10.196157</td>\n      <td>0.057598</td>\n      <td>1.0</td>\n      <td>4.781445</td>\n      <td>0.214872</td>\n      <td>False</td>\n      <td>False</td>\n      <td>1</td>\n      <td>1</td>\n      <td>0</td>\n      <td>0</td>\n    </tr>\n  </tbody>\n</table>\n</div>"
     },
     "metadata": {},
     "execution_count": 563
    }
   ],
   "source": [
    "df.iloc[170: 180]"
   ]
  },
  {
   "cell_type": "code",
   "execution_count": 564,
   "metadata": {},
   "outputs": [
    {
     "output_type": "execute_result",
     "data": {
      "text/plain": [
       "                                            sum       mean        std\n",
       "descricao                             year                           \n",
       "Firmas que receberam subsídio em 1988 1987   36   7.672105  19.574833\n",
       "                                      1988   36  35.978342  36.956019\n",
       "                                      1989   36  10.055916  19.474582"
      ],
      "text/html": "<div>\n<style scoped>\n    .dataframe tbody tr th:only-of-type {\n        vertical-align: middle;\n    }\n\n    .dataframe tbody tr th {\n        vertical-align: top;\n    }\n\n    .dataframe thead th {\n        text-align: right;\n    }\n</style>\n<table border=\"1\" class=\"dataframe\">\n  <thead>\n    <tr style=\"text-align: right;\">\n      <th></th>\n      <th></th>\n      <th>sum</th>\n      <th>mean</th>\n      <th>std</th>\n    </tr>\n    <tr>\n      <th>descricao</th>\n      <th>year</th>\n      <th></th>\n      <th></th>\n      <th></th>\n    </tr>\n  </thead>\n  <tbody>\n    <tr>\n      <th rowspan=\"3\" valign=\"top\">Firmas que receberam subsídio em 1988</th>\n      <th>1987</th>\n      <td>36</td>\n      <td>7.672105</td>\n      <td>19.574833</td>\n    </tr>\n    <tr>\n      <th>1988</th>\n      <td>36</td>\n      <td>35.978342</td>\n      <td>36.956019</td>\n    </tr>\n    <tr>\n      <th>1989</th>\n      <td>36</td>\n      <td>10.055916</td>\n      <td>19.474582</td>\n    </tr>\n  </tbody>\n</table>\n</div>"
     },
     "metadata": {},
     "execution_count": 564
    }
   ],
   "source": [
    "df88 = df.groupby([\"year\", \"grant_1988\"]).agg({\"fcode\": \"count\", \"hrsemp\": [\"mean\", \"std\"]}).reset_index(level=1)\n",
    "df88 = df88.loc[df88.grant_1988 == 1].drop([\"grant_1988\"], level=0, axis=1).reset_index()\n",
    "df88.columns = [\"year\", \"sum\", \"mean\", \"std\"]\n",
    "df88[\"descricao\"] = \"Firmas que receberam subsídio em 1988\"\n",
    "df88 = df88.groupby([\"descricao\", \"year\"]).mean()\n",
    "df88"
   ]
  },
  {
   "cell_type": "code",
   "execution_count": 565,
   "metadata": {},
   "outputs": [
    {
     "output_type": "execute_result",
     "data": {
      "text/plain": [
       "                                            sum       mean        std\n",
       "descricao                             year                           \n",
       "Firmas que receberam subsídio em 1989 1987   30   6.124542  11.309335\n",
       "                                      1988   30   9.315550  17.360545\n",
       "                                      1989   30  50.649975  36.217713"
      ],
      "text/html": "<div>\n<style scoped>\n    .dataframe tbody tr th:only-of-type {\n        vertical-align: middle;\n    }\n\n    .dataframe tbody tr th {\n        vertical-align: top;\n    }\n\n    .dataframe thead th {\n        text-align: right;\n    }\n</style>\n<table border=\"1\" class=\"dataframe\">\n  <thead>\n    <tr style=\"text-align: right;\">\n      <th></th>\n      <th></th>\n      <th>sum</th>\n      <th>mean</th>\n      <th>std</th>\n    </tr>\n    <tr>\n      <th>descricao</th>\n      <th>year</th>\n      <th></th>\n      <th></th>\n      <th></th>\n    </tr>\n  </thead>\n  <tbody>\n    <tr>\n      <th rowspan=\"3\" valign=\"top\">Firmas que receberam subsídio em 1989</th>\n      <th>1987</th>\n      <td>30</td>\n      <td>6.124542</td>\n      <td>11.309335</td>\n    </tr>\n    <tr>\n      <th>1988</th>\n      <td>30</td>\n      <td>9.315550</td>\n      <td>17.360545</td>\n    </tr>\n    <tr>\n      <th>1989</th>\n      <td>30</td>\n      <td>50.649975</td>\n      <td>36.217713</td>\n    </tr>\n  </tbody>\n</table>\n</div>"
     },
     "metadata": {},
     "execution_count": 565
    }
   ],
   "source": [
    "df89 = df.groupby([\"year\", \"grant_1989\"]).agg({\"fcode\": \"count\", \"hrsemp\": [\"mean\", \"std\"]}).reset_index(level=1)\n",
    "df89 = df89.loc[df89.grant_1989 == 1].drop([\"grant_1989\"], level=0, axis=1).reset_index()\n",
    "df89.columns = [\"year\", \"sum\", \"mean\", \"std\"]\n",
    "df89[\"descricao\"] = \"Firmas que receberam subsídio em 1989\"\n",
    "df89 = df89.groupby([\"descricao\", \"year\"]).mean()\n",
    "df89"
   ]
  },
  {
   "cell_type": "code",
   "execution_count": 566,
   "metadata": {},
   "outputs": [
    {
     "output_type": "execute_result",
     "data": {
      "text/plain": [
       "                                        sum       mean        std\n",
       "descricao                         year                           \n",
       "Firmas que não receberam subsídio 1987   91  10.702936  18.314595\n",
       "                                  1988   91   9.817479  18.627084\n",
       "                                  1989   91  12.352485  23.777301"
      ],
      "text/html": "<div>\n<style scoped>\n    .dataframe tbody tr th:only-of-type {\n        vertical-align: middle;\n    }\n\n    .dataframe tbody tr th {\n        vertical-align: top;\n    }\n\n    .dataframe thead th {\n        text-align: right;\n    }\n</style>\n<table border=\"1\" class=\"dataframe\">\n  <thead>\n    <tr style=\"text-align: right;\">\n      <th></th>\n      <th></th>\n      <th>sum</th>\n      <th>mean</th>\n      <th>std</th>\n    </tr>\n    <tr>\n      <th>descricao</th>\n      <th>year</th>\n      <th></th>\n      <th></th>\n      <th></th>\n    </tr>\n  </thead>\n  <tbody>\n    <tr>\n      <th rowspan=\"3\" valign=\"top\">Firmas que não receberam subsídio</th>\n      <th>1987</th>\n      <td>91</td>\n      <td>10.702936</td>\n      <td>18.314595</td>\n    </tr>\n    <tr>\n      <th>1988</th>\n      <td>91</td>\n      <td>9.817479</td>\n      <td>18.627084</td>\n    </tr>\n    <tr>\n      <th>1989</th>\n      <td>91</td>\n      <td>12.352485</td>\n      <td>23.777301</td>\n    </tr>\n  </tbody>\n</table>\n</div>"
     },
     "metadata": {},
     "execution_count": 566
    }
   ],
   "source": [
    "dfnot = df.groupby([\"year\", \"grant_no\"]).agg({\"fcode\": \"count\", \"hrsemp\": [\"mean\", \"std\"]}).reset_index(level=1)\n",
    "dfnot = dfnot.loc[dfnot.grant_no == 1].drop([\"grant_no\"], level=0, axis=1).reset_index()\n",
    "dfnot.columns = [\"year\", \"sum\", \"mean\", \"std\"]\n",
    "dfnot[\"descricao\"] = \"Firmas que não receberam subsídio\"\n",
    "dfnot = dfnot.groupby([\"descricao\", \"year\"]).mean()\n",
    "dfnot"
   ]
  },
  {
   "cell_type": "code",
   "execution_count": 567,
   "metadata": {},
   "outputs": [
    {
     "output_type": "execute_result",
     "data": {
      "text/plain": [
       "                                            sum       mean        std\n",
       "descricao                             year                           \n",
       "Firmas que receberam subsídio em 1988 1987   36   7.672105  19.574833\n",
       "                                      1988   36  35.978342  36.956019\n",
       "                                      1989   36  10.055916  19.474582\n",
       "Firmas que receberam subsídio em 1989 1987   30   6.124542  11.309335\n",
       "                                      1988   30   9.315550  17.360545\n",
       "                                      1989   30  50.649975  36.217713\n",
       "Firmas que não receberam subsídio     1987   91  10.702936  18.314595\n",
       "                                      1988   91   9.817479  18.627084\n",
       "                                      1989   91  12.352485  23.777301"
      ],
      "text/html": "<div>\n<style scoped>\n    .dataframe tbody tr th:only-of-type {\n        vertical-align: middle;\n    }\n\n    .dataframe tbody tr th {\n        vertical-align: top;\n    }\n\n    .dataframe thead th {\n        text-align: right;\n    }\n</style>\n<table border=\"1\" class=\"dataframe\">\n  <thead>\n    <tr style=\"text-align: right;\">\n      <th></th>\n      <th></th>\n      <th>sum</th>\n      <th>mean</th>\n      <th>std</th>\n    </tr>\n    <tr>\n      <th>descricao</th>\n      <th>year</th>\n      <th></th>\n      <th></th>\n      <th></th>\n    </tr>\n  </thead>\n  <tbody>\n    <tr>\n      <th rowspan=\"3\" valign=\"top\">Firmas que receberam subsídio em 1988</th>\n      <th>1987</th>\n      <td>36</td>\n      <td>7.672105</td>\n      <td>19.574833</td>\n    </tr>\n    <tr>\n      <th>1988</th>\n      <td>36</td>\n      <td>35.978342</td>\n      <td>36.956019</td>\n    </tr>\n    <tr>\n      <th>1989</th>\n      <td>36</td>\n      <td>10.055916</td>\n      <td>19.474582</td>\n    </tr>\n    <tr>\n      <th rowspan=\"3\" valign=\"top\">Firmas que receberam subsídio em 1989</th>\n      <th>1987</th>\n      <td>30</td>\n      <td>6.124542</td>\n      <td>11.309335</td>\n    </tr>\n    <tr>\n      <th>1988</th>\n      <td>30</td>\n      <td>9.315550</td>\n      <td>17.360545</td>\n    </tr>\n    <tr>\n      <th>1989</th>\n      <td>30</td>\n      <td>50.649975</td>\n      <td>36.217713</td>\n    </tr>\n    <tr>\n      <th rowspan=\"3\" valign=\"top\">Firmas que não receberam subsídio</th>\n      <th>1987</th>\n      <td>91</td>\n      <td>10.702936</td>\n      <td>18.314595</td>\n    </tr>\n    <tr>\n      <th>1988</th>\n      <td>91</td>\n      <td>9.817479</td>\n      <td>18.627084</td>\n    </tr>\n    <tr>\n      <th>1989</th>\n      <td>91</td>\n      <td>12.352485</td>\n      <td>23.777301</td>\n    </tr>\n  </tbody>\n</table>\n</div>"
     },
     "metadata": {},
     "execution_count": 567
    }
   ],
   "source": [
    "df2 = pd.concat([df88, df89, dfnot])\n",
    "df2"
   ]
  },
  {
   "cell_type": "code",
   "execution_count": null,
   "metadata": {},
   "outputs": [],
   "source": []
  }
 ]
}