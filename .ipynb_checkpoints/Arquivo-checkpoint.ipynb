{
 "cells": [
  {
   "cell_type": "markdown",
   "metadata": {},
   "source": [
    "# Prova 2 - Econometria 1\n",
    "\n",
    "## Nomes: Hugo Trigueiro e Kevin Mattos"
   ]
  },
  {
   "cell_type": "code",
   "execution_count": 508,
   "metadata": {},
   "outputs": [],
   "source": [
    "import wooldridge as wd\n",
    "import pandas as pd\n",
    "import numpy as np\n",
    "import matplotlib.pyplot as plt"
   ]
  },
  {
   "cell_type": "code",
   "execution_count": 509,
   "metadata": {},
   "outputs": [],
   "source": [
    "pd.set_option(\"display.max_columns\", None)"
   ]
  },
  {
   "cell_type": "code",
   "execution_count": 990,
   "metadata": {},
   "outputs": [],
   "source": [
    "def round2(x):\n",
    "    return round(x, 2)\n",
    "\n",
    "def gform(y, x):\n",
    "    formula = y + \" ~ \" + \" + \".join(x)\n",
    "    return formula\n",
    "\n",
    "def saveresults(reg, name=\"file\"):\n",
    "    from datetime import datetime\n",
    "    date = datetime.now().strftime(\"%d-%m-%y %H-%M-%S\")\n",
    "    f = open(\"name\" + date + \".txt\", \"a\")\n",
    "    f.write(reg.summary().as_latex())\n",
    "    f.close()"
   ]
  },
  {
   "cell_type": "markdown",
   "metadata": {},
   "source": [
    "____\n",
    "## Importando os dados"
   ]
  },
  {
   "cell_type": "code",
   "execution_count": 991,
   "metadata": {},
   "outputs": [],
   "source": [
    "jtrain = wd.data('jtrain')"
   ]
  },
  {
   "cell_type": "code",
   "execution_count": 992,
   "metadata": {},
   "outputs": [
    {
     "data": {
      "text/plain": [
       "(471, 30)"
      ]
     },
     "execution_count": 992,
     "metadata": {},
     "output_type": "execute_result"
    }
   ],
   "source": [
    "jtrain.shape"
   ]
  },
  {
   "cell_type": "code",
   "execution_count": 993,
   "metadata": {},
   "outputs": [],
   "source": [
    "df = jtrain.copy()"
   ]
  },
  {
   "cell_type": "code",
   "execution_count": 994,
   "metadata": {},
   "outputs": [
    {
     "data": {
      "text/html": [
       "<div>\n",
       "<style scoped>\n",
       "    .dataframe tbody tr th:only-of-type {\n",
       "        vertical-align: middle;\n",
       "    }\n",
       "\n",
       "    .dataframe tbody tr th {\n",
       "        vertical-align: top;\n",
       "    }\n",
       "\n",
       "    .dataframe thead th {\n",
       "        text-align: right;\n",
       "    }\n",
       "</style>\n",
       "<table border=\"1\" class=\"dataframe\">\n",
       "  <thead>\n",
       "    <tr style=\"text-align: right;\">\n",
       "      <th></th>\n",
       "      <th>year</th>\n",
       "      <th>fcode</th>\n",
       "      <th>employ</th>\n",
       "      <th>sales</th>\n",
       "      <th>avgsal</th>\n",
       "      <th>scrap</th>\n",
       "      <th>rework</th>\n",
       "      <th>tothrs</th>\n",
       "      <th>union</th>\n",
       "      <th>grant</th>\n",
       "      <th>d89</th>\n",
       "      <th>d88</th>\n",
       "      <th>totrain</th>\n",
       "      <th>hrsemp</th>\n",
       "      <th>lscrap</th>\n",
       "      <th>lemploy</th>\n",
       "      <th>lsales</th>\n",
       "      <th>lrework</th>\n",
       "      <th>lhrsemp</th>\n",
       "      <th>lscrap_1</th>\n",
       "      <th>grant_1</th>\n",
       "      <th>clscrap</th>\n",
       "      <th>cgrant</th>\n",
       "      <th>clemploy</th>\n",
       "      <th>clsales</th>\n",
       "      <th>lavgsal</th>\n",
       "      <th>clavgsal</th>\n",
       "      <th>cgrant_1</th>\n",
       "      <th>chrsemp</th>\n",
       "      <th>clhrsemp</th>\n",
       "    </tr>\n",
       "  </thead>\n",
       "  <tbody>\n",
       "    <tr>\n",
       "      <th>0</th>\n",
       "      <td>1987</td>\n",
       "      <td>410032.0</td>\n",
       "      <td>100.0</td>\n",
       "      <td>47000000.0</td>\n",
       "      <td>35000.0</td>\n",
       "      <td>NaN</td>\n",
       "      <td>NaN</td>\n",
       "      <td>12.0</td>\n",
       "      <td>0</td>\n",
       "      <td>0</td>\n",
       "      <td>0</td>\n",
       "      <td>0</td>\n",
       "      <td>100.0</td>\n",
       "      <td>12.000000</td>\n",
       "      <td>NaN</td>\n",
       "      <td>4.605170</td>\n",
       "      <td>17.665659</td>\n",
       "      <td>NaN</td>\n",
       "      <td>2.564949</td>\n",
       "      <td>NaN</td>\n",
       "      <td>0</td>\n",
       "      <td>NaN</td>\n",
       "      <td>0</td>\n",
       "      <td>NaN</td>\n",
       "      <td>NaN</td>\n",
       "      <td>10.463103</td>\n",
       "      <td>NaN</td>\n",
       "      <td>NaN</td>\n",
       "      <td>NaN</td>\n",
       "      <td>NaN</td>\n",
       "    </tr>\n",
       "    <tr>\n",
       "      <th>1</th>\n",
       "      <td>1988</td>\n",
       "      <td>410032.0</td>\n",
       "      <td>131.0</td>\n",
       "      <td>43000000.0</td>\n",
       "      <td>37000.0</td>\n",
       "      <td>NaN</td>\n",
       "      <td>NaN</td>\n",
       "      <td>8.0</td>\n",
       "      <td>0</td>\n",
       "      <td>0</td>\n",
       "      <td>0</td>\n",
       "      <td>1</td>\n",
       "      <td>50.0</td>\n",
       "      <td>3.053435</td>\n",
       "      <td>NaN</td>\n",
       "      <td>4.875197</td>\n",
       "      <td>17.576710</td>\n",
       "      <td>NaN</td>\n",
       "      <td>1.399565</td>\n",
       "      <td>NaN</td>\n",
       "      <td>0</td>\n",
       "      <td>NaN</td>\n",
       "      <td>0</td>\n",
       "      <td>0.270027</td>\n",
       "      <td>-0.088949</td>\n",
       "      <td>10.518673</td>\n",
       "      <td>0.055570</td>\n",
       "      <td>0.0</td>\n",
       "      <td>-8.946565</td>\n",
       "      <td>-1.165385</td>\n",
       "    </tr>\n",
       "    <tr>\n",
       "      <th>2</th>\n",
       "      <td>1989</td>\n",
       "      <td>410032.0</td>\n",
       "      <td>123.0</td>\n",
       "      <td>49000000.0</td>\n",
       "      <td>39000.0</td>\n",
       "      <td>NaN</td>\n",
       "      <td>NaN</td>\n",
       "      <td>8.0</td>\n",
       "      <td>0</td>\n",
       "      <td>0</td>\n",
       "      <td>1</td>\n",
       "      <td>0</td>\n",
       "      <td>50.0</td>\n",
       "      <td>3.252033</td>\n",
       "      <td>NaN</td>\n",
       "      <td>4.812184</td>\n",
       "      <td>17.707331</td>\n",
       "      <td>NaN</td>\n",
       "      <td>1.447397</td>\n",
       "      <td>NaN</td>\n",
       "      <td>0</td>\n",
       "      <td>NaN</td>\n",
       "      <td>0</td>\n",
       "      <td>-0.063013</td>\n",
       "      <td>0.130621</td>\n",
       "      <td>10.571317</td>\n",
       "      <td>0.052644</td>\n",
       "      <td>0.0</td>\n",
       "      <td>0.198597</td>\n",
       "      <td>0.047832</td>\n",
       "    </tr>\n",
       "    <tr>\n",
       "      <th>3</th>\n",
       "      <td>1987</td>\n",
       "      <td>410440.0</td>\n",
       "      <td>12.0</td>\n",
       "      <td>1560000.0</td>\n",
       "      <td>10500.0</td>\n",
       "      <td>NaN</td>\n",
       "      <td>NaN</td>\n",
       "      <td>12.0</td>\n",
       "      <td>0</td>\n",
       "      <td>0</td>\n",
       "      <td>0</td>\n",
       "      <td>0</td>\n",
       "      <td>12.0</td>\n",
       "      <td>12.000000</td>\n",
       "      <td>NaN</td>\n",
       "      <td>2.484907</td>\n",
       "      <td>14.260197</td>\n",
       "      <td>NaN</td>\n",
       "      <td>2.564949</td>\n",
       "      <td>NaN</td>\n",
       "      <td>0</td>\n",
       "      <td>NaN</td>\n",
       "      <td>0</td>\n",
       "      <td>NaN</td>\n",
       "      <td>NaN</td>\n",
       "      <td>9.259130</td>\n",
       "      <td>NaN</td>\n",
       "      <td>NaN</td>\n",
       "      <td>NaN</td>\n",
       "      <td>NaN</td>\n",
       "    </tr>\n",
       "    <tr>\n",
       "      <th>4</th>\n",
       "      <td>1988</td>\n",
       "      <td>410440.0</td>\n",
       "      <td>13.0</td>\n",
       "      <td>1970000.0</td>\n",
       "      <td>11000.0</td>\n",
       "      <td>NaN</td>\n",
       "      <td>NaN</td>\n",
       "      <td>12.0</td>\n",
       "      <td>0</td>\n",
       "      <td>0</td>\n",
       "      <td>0</td>\n",
       "      <td>1</td>\n",
       "      <td>13.0</td>\n",
       "      <td>12.000000</td>\n",
       "      <td>NaN</td>\n",
       "      <td>2.564949</td>\n",
       "      <td>14.493544</td>\n",
       "      <td>NaN</td>\n",
       "      <td>2.564949</td>\n",
       "      <td>NaN</td>\n",
       "      <td>0</td>\n",
       "      <td>NaN</td>\n",
       "      <td>0</td>\n",
       "      <td>0.080043</td>\n",
       "      <td>0.233347</td>\n",
       "      <td>9.305651</td>\n",
       "      <td>0.046520</td>\n",
       "      <td>0.0</td>\n",
       "      <td>0.000000</td>\n",
       "      <td>0.000000</td>\n",
       "    </tr>\n",
       "  </tbody>\n",
       "</table>\n",
       "</div>"
      ],
      "text/plain": [
       "   year     fcode  employ       sales   avgsal  scrap  rework  tothrs  union  \\\n",
       "0  1987  410032.0   100.0  47000000.0  35000.0    NaN     NaN    12.0      0   \n",
       "1  1988  410032.0   131.0  43000000.0  37000.0    NaN     NaN     8.0      0   \n",
       "2  1989  410032.0   123.0  49000000.0  39000.0    NaN     NaN     8.0      0   \n",
       "3  1987  410440.0    12.0   1560000.0  10500.0    NaN     NaN    12.0      0   \n",
       "4  1988  410440.0    13.0   1970000.0  11000.0    NaN     NaN    12.0      0   \n",
       "\n",
       "   grant  d89  d88  totrain     hrsemp  lscrap   lemploy     lsales  lrework  \\\n",
       "0      0    0    0    100.0  12.000000     NaN  4.605170  17.665659      NaN   \n",
       "1      0    0    1     50.0   3.053435     NaN  4.875197  17.576710      NaN   \n",
       "2      0    1    0     50.0   3.252033     NaN  4.812184  17.707331      NaN   \n",
       "3      0    0    0     12.0  12.000000     NaN  2.484907  14.260197      NaN   \n",
       "4      0    0    1     13.0  12.000000     NaN  2.564949  14.493544      NaN   \n",
       "\n",
       "    lhrsemp  lscrap_1  grant_1  clscrap  cgrant  clemploy   clsales  \\\n",
       "0  2.564949       NaN        0      NaN       0       NaN       NaN   \n",
       "1  1.399565       NaN        0      NaN       0  0.270027 -0.088949   \n",
       "2  1.447397       NaN        0      NaN       0 -0.063013  0.130621   \n",
       "3  2.564949       NaN        0      NaN       0       NaN       NaN   \n",
       "4  2.564949       NaN        0      NaN       0  0.080043  0.233347   \n",
       "\n",
       "     lavgsal  clavgsal  cgrant_1   chrsemp  clhrsemp  \n",
       "0  10.463103       NaN       NaN       NaN       NaN  \n",
       "1  10.518673  0.055570       0.0 -8.946565 -1.165385  \n",
       "2  10.571317  0.052644       0.0  0.198597  0.047832  \n",
       "3   9.259130       NaN       NaN       NaN       NaN  \n",
       "4   9.305651  0.046520       0.0  0.000000  0.000000  "
      ]
     },
     "execution_count": 994,
     "metadata": {},
     "output_type": "execute_result"
    }
   ],
   "source": [
    "df.head()"
   ]
  },
  {
   "cell_type": "code",
   "execution_count": 995,
   "metadata": {},
   "outputs": [],
   "source": [
    "df[\"firm_sub_1988\"] = (df[\"year\"] == 1988) & (df[\"grant\"] == 1).astype(int)\n",
    "df[\"firm_sub_1989\"] = (df[\"year\"] == 1989) & (df[\"grant\"] == 1).astype(int)\n",
    "df[\"firm_sub_not\"] = (df[\"grant\"] == 0).astype(int)"
   ]
  },
  {
   "cell_type": "code",
   "execution_count": 996,
   "metadata": {},
   "outputs": [
    {
     "data": {
      "text/html": [
       "<div>\n",
       "<style scoped>\n",
       "    .dataframe tbody tr th:only-of-type {\n",
       "        vertical-align: middle;\n",
       "    }\n",
       "\n",
       "    .dataframe tbody tr th {\n",
       "        vertical-align: top;\n",
       "    }\n",
       "\n",
       "    .dataframe thead th {\n",
       "        text-align: right;\n",
       "    }\n",
       "</style>\n",
       "<table border=\"1\" class=\"dataframe\">\n",
       "  <thead>\n",
       "    <tr style=\"text-align: right;\">\n",
       "      <th></th>\n",
       "      <th>year</th>\n",
       "      <th>fcode</th>\n",
       "      <th>employ</th>\n",
       "      <th>sales</th>\n",
       "      <th>avgsal</th>\n",
       "      <th>scrap</th>\n",
       "      <th>rework</th>\n",
       "      <th>tothrs</th>\n",
       "      <th>union</th>\n",
       "      <th>grant</th>\n",
       "      <th>d89</th>\n",
       "      <th>d88</th>\n",
       "      <th>totrain</th>\n",
       "      <th>hrsemp</th>\n",
       "      <th>lscrap</th>\n",
       "      <th>lemploy</th>\n",
       "      <th>lsales</th>\n",
       "      <th>lrework</th>\n",
       "      <th>lhrsemp</th>\n",
       "      <th>lscrap_1</th>\n",
       "      <th>grant_1</th>\n",
       "      <th>clscrap</th>\n",
       "      <th>cgrant</th>\n",
       "      <th>clemploy</th>\n",
       "      <th>clsales</th>\n",
       "      <th>lavgsal</th>\n",
       "      <th>clavgsal</th>\n",
       "      <th>cgrant_1</th>\n",
       "      <th>chrsemp</th>\n",
       "      <th>clhrsemp</th>\n",
       "      <th>firm_sub_1988</th>\n",
       "      <th>firm_sub_1989</th>\n",
       "      <th>firm_sub_not</th>\n",
       "    </tr>\n",
       "  </thead>\n",
       "  <tbody>\n",
       "    <tr>\n",
       "      <th>0</th>\n",
       "      <td>1987</td>\n",
       "      <td>410032.0</td>\n",
       "      <td>100.0</td>\n",
       "      <td>47000000.0</td>\n",
       "      <td>35000.0</td>\n",
       "      <td>NaN</td>\n",
       "      <td>NaN</td>\n",
       "      <td>12.0</td>\n",
       "      <td>0</td>\n",
       "      <td>0</td>\n",
       "      <td>0</td>\n",
       "      <td>0</td>\n",
       "      <td>100.0</td>\n",
       "      <td>12.000000</td>\n",
       "      <td>NaN</td>\n",
       "      <td>4.605170</td>\n",
       "      <td>17.665659</td>\n",
       "      <td>NaN</td>\n",
       "      <td>2.564949</td>\n",
       "      <td>NaN</td>\n",
       "      <td>0</td>\n",
       "      <td>NaN</td>\n",
       "      <td>0</td>\n",
       "      <td>NaN</td>\n",
       "      <td>NaN</td>\n",
       "      <td>10.463103</td>\n",
       "      <td>NaN</td>\n",
       "      <td>NaN</td>\n",
       "      <td>NaN</td>\n",
       "      <td>NaN</td>\n",
       "      <td>False</td>\n",
       "      <td>False</td>\n",
       "      <td>1</td>\n",
       "    </tr>\n",
       "    <tr>\n",
       "      <th>1</th>\n",
       "      <td>1988</td>\n",
       "      <td>410032.0</td>\n",
       "      <td>131.0</td>\n",
       "      <td>43000000.0</td>\n",
       "      <td>37000.0</td>\n",
       "      <td>NaN</td>\n",
       "      <td>NaN</td>\n",
       "      <td>8.0</td>\n",
       "      <td>0</td>\n",
       "      <td>0</td>\n",
       "      <td>0</td>\n",
       "      <td>1</td>\n",
       "      <td>50.0</td>\n",
       "      <td>3.053435</td>\n",
       "      <td>NaN</td>\n",
       "      <td>4.875197</td>\n",
       "      <td>17.576710</td>\n",
       "      <td>NaN</td>\n",
       "      <td>1.399565</td>\n",
       "      <td>NaN</td>\n",
       "      <td>0</td>\n",
       "      <td>NaN</td>\n",
       "      <td>0</td>\n",
       "      <td>0.270027</td>\n",
       "      <td>-0.088949</td>\n",
       "      <td>10.518673</td>\n",
       "      <td>0.055570</td>\n",
       "      <td>0.0</td>\n",
       "      <td>-8.946565</td>\n",
       "      <td>-1.165385</td>\n",
       "      <td>False</td>\n",
       "      <td>False</td>\n",
       "      <td>1</td>\n",
       "    </tr>\n",
       "    <tr>\n",
       "      <th>2</th>\n",
       "      <td>1989</td>\n",
       "      <td>410032.0</td>\n",
       "      <td>123.0</td>\n",
       "      <td>49000000.0</td>\n",
       "      <td>39000.0</td>\n",
       "      <td>NaN</td>\n",
       "      <td>NaN</td>\n",
       "      <td>8.0</td>\n",
       "      <td>0</td>\n",
       "      <td>0</td>\n",
       "      <td>1</td>\n",
       "      <td>0</td>\n",
       "      <td>50.0</td>\n",
       "      <td>3.252033</td>\n",
       "      <td>NaN</td>\n",
       "      <td>4.812184</td>\n",
       "      <td>17.707331</td>\n",
       "      <td>NaN</td>\n",
       "      <td>1.447397</td>\n",
       "      <td>NaN</td>\n",
       "      <td>0</td>\n",
       "      <td>NaN</td>\n",
       "      <td>0</td>\n",
       "      <td>-0.063013</td>\n",
       "      <td>0.130621</td>\n",
       "      <td>10.571317</td>\n",
       "      <td>0.052644</td>\n",
       "      <td>0.0</td>\n",
       "      <td>0.198597</td>\n",
       "      <td>0.047832</td>\n",
       "      <td>False</td>\n",
       "      <td>False</td>\n",
       "      <td>1</td>\n",
       "    </tr>\n",
       "    <tr>\n",
       "      <th>3</th>\n",
       "      <td>1987</td>\n",
       "      <td>410440.0</td>\n",
       "      <td>12.0</td>\n",
       "      <td>1560000.0</td>\n",
       "      <td>10500.0</td>\n",
       "      <td>NaN</td>\n",
       "      <td>NaN</td>\n",
       "      <td>12.0</td>\n",
       "      <td>0</td>\n",
       "      <td>0</td>\n",
       "      <td>0</td>\n",
       "      <td>0</td>\n",
       "      <td>12.0</td>\n",
       "      <td>12.000000</td>\n",
       "      <td>NaN</td>\n",
       "      <td>2.484907</td>\n",
       "      <td>14.260197</td>\n",
       "      <td>NaN</td>\n",
       "      <td>2.564949</td>\n",
       "      <td>NaN</td>\n",
       "      <td>0</td>\n",
       "      <td>NaN</td>\n",
       "      <td>0</td>\n",
       "      <td>NaN</td>\n",
       "      <td>NaN</td>\n",
       "      <td>9.259130</td>\n",
       "      <td>NaN</td>\n",
       "      <td>NaN</td>\n",
       "      <td>NaN</td>\n",
       "      <td>NaN</td>\n",
       "      <td>False</td>\n",
       "      <td>False</td>\n",
       "      <td>1</td>\n",
       "    </tr>\n",
       "    <tr>\n",
       "      <th>4</th>\n",
       "      <td>1988</td>\n",
       "      <td>410440.0</td>\n",
       "      <td>13.0</td>\n",
       "      <td>1970000.0</td>\n",
       "      <td>11000.0</td>\n",
       "      <td>NaN</td>\n",
       "      <td>NaN</td>\n",
       "      <td>12.0</td>\n",
       "      <td>0</td>\n",
       "      <td>0</td>\n",
       "      <td>0</td>\n",
       "      <td>1</td>\n",
       "      <td>13.0</td>\n",
       "      <td>12.000000</td>\n",
       "      <td>NaN</td>\n",
       "      <td>2.564949</td>\n",
       "      <td>14.493544</td>\n",
       "      <td>NaN</td>\n",
       "      <td>2.564949</td>\n",
       "      <td>NaN</td>\n",
       "      <td>0</td>\n",
       "      <td>NaN</td>\n",
       "      <td>0</td>\n",
       "      <td>0.080043</td>\n",
       "      <td>0.233347</td>\n",
       "      <td>9.305651</td>\n",
       "      <td>0.046520</td>\n",
       "      <td>0.0</td>\n",
       "      <td>0.000000</td>\n",
       "      <td>0.000000</td>\n",
       "      <td>False</td>\n",
       "      <td>False</td>\n",
       "      <td>1</td>\n",
       "    </tr>\n",
       "  </tbody>\n",
       "</table>\n",
       "</div>"
      ],
      "text/plain": [
       "   year     fcode  employ       sales   avgsal  scrap  rework  tothrs  union  \\\n",
       "0  1987  410032.0   100.0  47000000.0  35000.0    NaN     NaN    12.0      0   \n",
       "1  1988  410032.0   131.0  43000000.0  37000.0    NaN     NaN     8.0      0   \n",
       "2  1989  410032.0   123.0  49000000.0  39000.0    NaN     NaN     8.0      0   \n",
       "3  1987  410440.0    12.0   1560000.0  10500.0    NaN     NaN    12.0      0   \n",
       "4  1988  410440.0    13.0   1970000.0  11000.0    NaN     NaN    12.0      0   \n",
       "\n",
       "   grant  d89  d88  totrain     hrsemp  lscrap   lemploy     lsales  lrework  \\\n",
       "0      0    0    0    100.0  12.000000     NaN  4.605170  17.665659      NaN   \n",
       "1      0    0    1     50.0   3.053435     NaN  4.875197  17.576710      NaN   \n",
       "2      0    1    0     50.0   3.252033     NaN  4.812184  17.707331      NaN   \n",
       "3      0    0    0     12.0  12.000000     NaN  2.484907  14.260197      NaN   \n",
       "4      0    0    1     13.0  12.000000     NaN  2.564949  14.493544      NaN   \n",
       "\n",
       "    lhrsemp  lscrap_1  grant_1  clscrap  cgrant  clemploy   clsales  \\\n",
       "0  2.564949       NaN        0      NaN       0       NaN       NaN   \n",
       "1  1.399565       NaN        0      NaN       0  0.270027 -0.088949   \n",
       "2  1.447397       NaN        0      NaN       0 -0.063013  0.130621   \n",
       "3  2.564949       NaN        0      NaN       0       NaN       NaN   \n",
       "4  2.564949       NaN        0      NaN       0  0.080043  0.233347   \n",
       "\n",
       "     lavgsal  clavgsal  cgrant_1   chrsemp  clhrsemp  firm_sub_1988  \\\n",
       "0  10.463103       NaN       NaN       NaN       NaN          False   \n",
       "1  10.518673  0.055570       0.0 -8.946565 -1.165385          False   \n",
       "2  10.571317  0.052644       0.0  0.198597  0.047832          False   \n",
       "3   9.259130       NaN       NaN       NaN       NaN          False   \n",
       "4   9.305651  0.046520       0.0  0.000000  0.000000          False   \n",
       "\n",
       "   firm_sub_1989  firm_sub_not  \n",
       "0          False             1  \n",
       "1          False             1  \n",
       "2          False             1  \n",
       "3          False             1  \n",
       "4          False             1  "
      ]
     },
     "execution_count": 996,
     "metadata": {},
     "output_type": "execute_result"
    }
   ],
   "source": [
    "df.head()"
   ]
  },
  {
   "cell_type": "code",
   "execution_count": 997,
   "metadata": {},
   "outputs": [],
   "source": [
    "df = pd.concat([df.set_index(\"fcode\"), df.groupby([\"fcode\"])[\"firm_sub_1988\"].max().astype(int).rename(\"grant_1988\")], axis=1).reset_index()\r\n",
    "df = pd.concat([df.set_index(\"fcode\"), df.groupby([\"fcode\"])[\"firm_sub_1989\"].max().astype(int).rename(\"grant_1989\")], axis=1).reset_index()\r\n",
    "df = pd.concat([df.set_index(\"fcode\"), (df.groupby([\"fcode\"])[\"firm_sub_not\"].sum() == 3).astype(int).astype(int).rename(\"grant_no\")], axis=1).reset_index()"
   ]
  },
  {
   "cell_type": "code",
   "execution_count": 998,
   "metadata": {},
   "outputs": [
    {
     "data": {
      "text/plain": [
       "(471, 36)"
      ]
     },
     "execution_count": 998,
     "metadata": {},
     "output_type": "execute_result"
    }
   ],
   "source": [
    "df.shape"
   ]
  },
  {
   "cell_type": "code",
   "execution_count": 999,
   "metadata": {},
   "outputs": [
    {
     "data": {
      "text/html": [
       "<div>\n",
       "<style scoped>\n",
       "    .dataframe tbody tr th:only-of-type {\n",
       "        vertical-align: middle;\n",
       "    }\n",
       "\n",
       "    .dataframe tbody tr th {\n",
       "        vertical-align: top;\n",
       "    }\n",
       "\n",
       "    .dataframe thead th {\n",
       "        text-align: right;\n",
       "    }\n",
       "</style>\n",
       "<table border=\"1\" class=\"dataframe\">\n",
       "  <thead>\n",
       "    <tr style=\"text-align: right;\">\n",
       "      <th></th>\n",
       "      <th></th>\n",
       "      <th>count</th>\n",
       "      <th>mean</th>\n",
       "      <th>std</th>\n",
       "    </tr>\n",
       "    <tr>\n",
       "      <th>descricao</th>\n",
       "      <th>year</th>\n",
       "      <th></th>\n",
       "      <th></th>\n",
       "      <th></th>\n",
       "    </tr>\n",
       "  </thead>\n",
       "  <tbody>\n",
       "    <tr>\n",
       "      <th rowspan=\"3\" valign=\"top\">Firmas que receberam subsídio em 1988</th>\n",
       "      <th>1987</th>\n",
       "      <td>36</td>\n",
       "      <td>7.672105</td>\n",
       "      <td>19.574833</td>\n",
       "    </tr>\n",
       "    <tr>\n",
       "      <th>1988</th>\n",
       "      <td>36</td>\n",
       "      <td>35.978342</td>\n",
       "      <td>36.956019</td>\n",
       "    </tr>\n",
       "    <tr>\n",
       "      <th>1989</th>\n",
       "      <td>36</td>\n",
       "      <td>10.055916</td>\n",
       "      <td>19.474582</td>\n",
       "    </tr>\n",
       "  </tbody>\n",
       "</table>\n",
       "</div>"
      ],
      "text/plain": [
       "                                            count       mean        std\n",
       "descricao                             year                             \n",
       "Firmas que receberam subsídio em 1988 1987     36   7.672105  19.574833\n",
       "                                      1988     36  35.978342  36.956019\n",
       "                                      1989     36  10.055916  19.474582"
      ]
     },
     "execution_count": 999,
     "metadata": {},
     "output_type": "execute_result"
    }
   ],
   "source": [
    "df88 = df.groupby([\"year\", \"grant_1988\"]).agg({\"fcode\": \"count\", \"hrsemp\": [\"mean\", \"std\"]}).reset_index(level=1)\n",
    "df88 = df88.loc[df88.grant_1988 == 1].drop([\"grant_1988\"], level=0, axis=1).reset_index()\n",
    "df88.columns = [\"year\", \"count\", \"mean\", \"std\"]\n",
    "df88[\"descricao\"] = \"Firmas que receberam subsídio em 1988\"\n",
    "df88 = df88.groupby([\"descricao\", \"year\"]).mean()\n",
    "df88"
   ]
  },
  {
   "cell_type": "code",
   "execution_count": 1000,
   "metadata": {},
   "outputs": [
    {
     "data": {
      "text/html": [
       "<div>\n",
       "<style scoped>\n",
       "    .dataframe tbody tr th:only-of-type {\n",
       "        vertical-align: middle;\n",
       "    }\n",
       "\n",
       "    .dataframe tbody tr th {\n",
       "        vertical-align: top;\n",
       "    }\n",
       "\n",
       "    .dataframe thead th {\n",
       "        text-align: right;\n",
       "    }\n",
       "</style>\n",
       "<table border=\"1\" class=\"dataframe\">\n",
       "  <thead>\n",
       "    <tr style=\"text-align: right;\">\n",
       "      <th></th>\n",
       "      <th></th>\n",
       "      <th>count</th>\n",
       "      <th>mean</th>\n",
       "      <th>std</th>\n",
       "    </tr>\n",
       "    <tr>\n",
       "      <th>descricao</th>\n",
       "      <th>year</th>\n",
       "      <th></th>\n",
       "      <th></th>\n",
       "      <th></th>\n",
       "    </tr>\n",
       "  </thead>\n",
       "  <tbody>\n",
       "    <tr>\n",
       "      <th rowspan=\"3\" valign=\"top\">Firmas que receberam subsídio em 1989</th>\n",
       "      <th>1987</th>\n",
       "      <td>30</td>\n",
       "      <td>6.124542</td>\n",
       "      <td>11.309335</td>\n",
       "    </tr>\n",
       "    <tr>\n",
       "      <th>1988</th>\n",
       "      <td>30</td>\n",
       "      <td>9.315550</td>\n",
       "      <td>17.360545</td>\n",
       "    </tr>\n",
       "    <tr>\n",
       "      <th>1989</th>\n",
       "      <td>30</td>\n",
       "      <td>50.649975</td>\n",
       "      <td>36.217713</td>\n",
       "    </tr>\n",
       "  </tbody>\n",
       "</table>\n",
       "</div>"
      ],
      "text/plain": [
       "                                            count       mean        std\n",
       "descricao                             year                             \n",
       "Firmas que receberam subsídio em 1989 1987     30   6.124542  11.309335\n",
       "                                      1988     30   9.315550  17.360545\n",
       "                                      1989     30  50.649975  36.217713"
      ]
     },
     "execution_count": 1000,
     "metadata": {},
     "output_type": "execute_result"
    }
   ],
   "source": [
    "df89 = df.groupby([\"year\", \"grant_1989\"]).agg({\"fcode\": \"count\", \"hrsemp\": [\"mean\", \"std\"]}).reset_index(level=1)\n",
    "df89 = df89.loc[df89.grant_1989 == 1].drop([\"grant_1989\"], level=0, axis=1).reset_index()\n",
    "df89.columns = [\"year\", \"count\", \"mean\", \"std\"]\n",
    "df89[\"descricao\"] = \"Firmas que receberam subsídio em 1989\"\n",
    "df89 = df89.groupby([\"descricao\", \"year\"]).mean()\n",
    "df89"
   ]
  },
  {
   "cell_type": "code",
   "execution_count": 1001,
   "metadata": {},
   "outputs": [
    {
     "data": {
      "text/html": [
       "<div>\n",
       "<style scoped>\n",
       "    .dataframe tbody tr th:only-of-type {\n",
       "        vertical-align: middle;\n",
       "    }\n",
       "\n",
       "    .dataframe tbody tr th {\n",
       "        vertical-align: top;\n",
       "    }\n",
       "\n",
       "    .dataframe thead th {\n",
       "        text-align: right;\n",
       "    }\n",
       "</style>\n",
       "<table border=\"1\" class=\"dataframe\">\n",
       "  <thead>\n",
       "    <tr style=\"text-align: right;\">\n",
       "      <th></th>\n",
       "      <th></th>\n",
       "      <th>count</th>\n",
       "      <th>mean</th>\n",
       "      <th>std</th>\n",
       "    </tr>\n",
       "    <tr>\n",
       "      <th>descricao</th>\n",
       "      <th>year</th>\n",
       "      <th></th>\n",
       "      <th></th>\n",
       "      <th></th>\n",
       "    </tr>\n",
       "  </thead>\n",
       "  <tbody>\n",
       "    <tr>\n",
       "      <th rowspan=\"3\" valign=\"top\">Firmas que não receberam subsídio</th>\n",
       "      <th>1987</th>\n",
       "      <td>91</td>\n",
       "      <td>10.702936</td>\n",
       "      <td>18.314595</td>\n",
       "    </tr>\n",
       "    <tr>\n",
       "      <th>1988</th>\n",
       "      <td>91</td>\n",
       "      <td>9.817479</td>\n",
       "      <td>18.627084</td>\n",
       "    </tr>\n",
       "    <tr>\n",
       "      <th>1989</th>\n",
       "      <td>91</td>\n",
       "      <td>12.352485</td>\n",
       "      <td>23.777301</td>\n",
       "    </tr>\n",
       "  </tbody>\n",
       "</table>\n",
       "</div>"
      ],
      "text/plain": [
       "                                        count       mean        std\n",
       "descricao                         year                             \n",
       "Firmas que não receberam subsídio 1987     91  10.702936  18.314595\n",
       "                                  1988     91   9.817479  18.627084\n",
       "                                  1989     91  12.352485  23.777301"
      ]
     },
     "execution_count": 1001,
     "metadata": {},
     "output_type": "execute_result"
    }
   ],
   "source": [
    "dfnot = df.groupby([\"year\", \"grant_no\"]).agg({\"fcode\": \"count\", \"hrsemp\": [\"mean\", \"std\"]}).reset_index(level=1)\n",
    "dfnot = dfnot.loc[dfnot.grant_no == 1].drop([\"grant_no\"], level=0, axis=1).reset_index()\n",
    "dfnot.columns = [\"year\", \"count\", \"mean\", \"std\"]\n",
    "dfnot[\"descricao\"] = \"Firmas que não receberam subsídio\"\n",
    "dfnot = dfnot.groupby([\"descricao\", \"year\"]).mean()\n",
    "dfnot"
   ]
  },
  {
   "cell_type": "code",
   "execution_count": 1002,
   "metadata": {},
   "outputs": [
    {
     "data": {
      "text/html": [
       "<div>\n",
       "<style scoped>\n",
       "    .dataframe tbody tr th:only-of-type {\n",
       "        vertical-align: middle;\n",
       "    }\n",
       "\n",
       "    .dataframe tbody tr th {\n",
       "        vertical-align: top;\n",
       "    }\n",
       "\n",
       "    .dataframe thead th {\n",
       "        text-align: right;\n",
       "    }\n",
       "</style>\n",
       "<table border=\"1\" class=\"dataframe\">\n",
       "  <thead>\n",
       "    <tr style=\"text-align: right;\">\n",
       "      <th></th>\n",
       "      <th></th>\n",
       "      <th>count</th>\n",
       "      <th>mean</th>\n",
       "      <th>std</th>\n",
       "    </tr>\n",
       "    <tr>\n",
       "      <th>descricao</th>\n",
       "      <th>year</th>\n",
       "      <th></th>\n",
       "      <th></th>\n",
       "      <th></th>\n",
       "    </tr>\n",
       "  </thead>\n",
       "  <tbody>\n",
       "    <tr>\n",
       "      <th rowspan=\"3\" valign=\"top\">Firmas que receberam subsídio em 1988</th>\n",
       "      <th>1987</th>\n",
       "      <td>36</td>\n",
       "      <td>7.672105</td>\n",
       "      <td>19.574833</td>\n",
       "    </tr>\n",
       "    <tr>\n",
       "      <th>1988</th>\n",
       "      <td>36</td>\n",
       "      <td>35.978342</td>\n",
       "      <td>36.956019</td>\n",
       "    </tr>\n",
       "    <tr>\n",
       "      <th>1989</th>\n",
       "      <td>36</td>\n",
       "      <td>10.055916</td>\n",
       "      <td>19.474582</td>\n",
       "    </tr>\n",
       "    <tr>\n",
       "      <th rowspan=\"3\" valign=\"top\">Firmas que receberam subsídio em 1989</th>\n",
       "      <th>1987</th>\n",
       "      <td>30</td>\n",
       "      <td>6.124542</td>\n",
       "      <td>11.309335</td>\n",
       "    </tr>\n",
       "    <tr>\n",
       "      <th>1988</th>\n",
       "      <td>30</td>\n",
       "      <td>9.315550</td>\n",
       "      <td>17.360545</td>\n",
       "    </tr>\n",
       "    <tr>\n",
       "      <th>1989</th>\n",
       "      <td>30</td>\n",
       "      <td>50.649975</td>\n",
       "      <td>36.217713</td>\n",
       "    </tr>\n",
       "    <tr>\n",
       "      <th rowspan=\"3\" valign=\"top\">Firmas que não receberam subsídio</th>\n",
       "      <th>1987</th>\n",
       "      <td>91</td>\n",
       "      <td>10.702936</td>\n",
       "      <td>18.314595</td>\n",
       "    </tr>\n",
       "    <tr>\n",
       "      <th>1988</th>\n",
       "      <td>91</td>\n",
       "      <td>9.817479</td>\n",
       "      <td>18.627084</td>\n",
       "    </tr>\n",
       "    <tr>\n",
       "      <th>1989</th>\n",
       "      <td>91</td>\n",
       "      <td>12.352485</td>\n",
       "      <td>23.777301</td>\n",
       "    </tr>\n",
       "  </tbody>\n",
       "</table>\n",
       "</div>"
      ],
      "text/plain": [
       "                                            count       mean        std\n",
       "descricao                             year                             \n",
       "Firmas que receberam subsídio em 1988 1987     36   7.672105  19.574833\n",
       "                                      1988     36  35.978342  36.956019\n",
       "                                      1989     36  10.055916  19.474582\n",
       "Firmas que receberam subsídio em 1989 1987     30   6.124542  11.309335\n",
       "                                      1988     30   9.315550  17.360545\n",
       "                                      1989     30  50.649975  36.217713\n",
       "Firmas que não receberam subsídio     1987     91  10.702936  18.314595\n",
       "                                      1988     91   9.817479  18.627084\n",
       "                                      1989     91  12.352485  23.777301"
      ]
     },
     "execution_count": 1002,
     "metadata": {},
     "output_type": "execute_result"
    }
   ],
   "source": [
    "df2 = pd.concat([df88, df89, dfnot])\n",
    "df2"
   ]
  },
  {
   "cell_type": "code",
   "execution_count": null,
   "metadata": {},
   "outputs": [],
   "source": [
    "df.groupby([\"year\", \"grant_no\"]).agg({\"fcode\": \"count\", \"hrsemp\": [\"mean\", \"std\"]}).reset_index(level=1)\n"
   ]
  },
  {
   "cell_type": "code",
   "execution_count": 1073,
   "metadata": {},
   "outputs": [],
   "source": [
    "descript = df.groupby([\"year\", \"grant\"]).agg({\"fcode\": \"count\",\n",
    "                                   \"hrsemp\": [\"mean\", \"std\"], \n",
    "                                   \"employ\": [\"mean\", \"std\"], \n",
    "                                   \"scrap\": [\"mean\", \"std\"], \n",
    "                                   \"avgsal\": [\"mean\", \"std\"],\n",
    "                                   \"sales\": [\"mean\", \"std\"]}).apply(round)"
   ]
  },
  {
   "cell_type": "code",
   "execution_count": 1075,
   "metadata": {},
   "outputs": [],
   "source": [
    "descript.to_csv(\"general_descriptive.csv\")"
   ]
  },
  {
   "cell_type": "markdown",
   "metadata": {},
   "source": [
    "### 1) Estatísticas Descritivas"
   ]
  },
  {
   "cell_type": "code",
   "execution_count": 1007,
   "metadata": {},
   "outputs": [],
   "source": [
    "df2.apply(round2).to_csv(\"descritivas.csv\")"
   ]
  },
  {
   "cell_type": "code",
   "execution_count": 1005,
   "metadata": {},
   "outputs": [],
   "source": [
    "df2.to_csv(\"descritivas.csv\")"
   ]
  },
  {
   "cell_type": "code",
   "execution_count": 799,
   "metadata": {},
   "outputs": [
    {
     "data": {
      "text/html": [
       "<div>\n",
       "<style scoped>\n",
       "    .dataframe tbody tr th:only-of-type {\n",
       "        vertical-align: middle;\n",
       "    }\n",
       "\n",
       "    .dataframe tbody tr th {\n",
       "        vertical-align: top;\n",
       "    }\n",
       "\n",
       "    .dataframe thead th {\n",
       "        text-align: right;\n",
       "    }\n",
       "</style>\n",
       "<table border=\"1\" class=\"dataframe\">\n",
       "  <thead>\n",
       "    <tr style=\"text-align: right;\">\n",
       "      <th></th>\n",
       "      <th>count</th>\n",
       "      <th>mean</th>\n",
       "      <th>std</th>\n",
       "      <th>min</th>\n",
       "      <th>25%</th>\n",
       "      <th>50%</th>\n",
       "      <th>75%</th>\n",
       "      <th>max</th>\n",
       "    </tr>\n",
       "  </thead>\n",
       "  <tbody>\n",
       "    <tr>\n",
       "      <th>year</th>\n",
       "      <td>471.0</td>\n",
       "      <td>1988.00</td>\n",
       "      <td>0.82</td>\n",
       "      <td>1987.00</td>\n",
       "      <td>1987.00</td>\n",
       "      <td>1988.00</td>\n",
       "      <td>1989.00</td>\n",
       "      <td>1989.00</td>\n",
       "    </tr>\n",
       "    <tr>\n",
       "      <th>fcode</th>\n",
       "      <td>471.0</td>\n",
       "      <td>415708.89</td>\n",
       "      <td>4022.92</td>\n",
       "      <td>410032.00</td>\n",
       "      <td>410604.00</td>\n",
       "      <td>418084.00</td>\n",
       "      <td>419309.00</td>\n",
       "      <td>419486.00</td>\n",
       "    </tr>\n",
       "    <tr>\n",
       "      <th>employ</th>\n",
       "      <td>440.0</td>\n",
       "      <td>59.32</td>\n",
       "      <td>74.12</td>\n",
       "      <td>4.00</td>\n",
       "      <td>15.00</td>\n",
       "      <td>30.00</td>\n",
       "      <td>72.00</td>\n",
       "      <td>525.00</td>\n",
       "    </tr>\n",
       "    <tr>\n",
       "      <th>sales</th>\n",
       "      <td>373.0</td>\n",
       "      <td>6116036.54</td>\n",
       "      <td>7912517.30</td>\n",
       "      <td>110000.00</td>\n",
       "      <td>1550000.00</td>\n",
       "      <td>3000000.00</td>\n",
       "      <td>7700000.00</td>\n",
       "      <td>54000000.00</td>\n",
       "    </tr>\n",
       "    <tr>\n",
       "      <th>avgsal</th>\n",
       "      <td>406.0</td>\n",
       "      <td>18872.83</td>\n",
       "      <td>6703.16</td>\n",
       "      <td>4237.00</td>\n",
       "      <td>14102.50</td>\n",
       "      <td>17773.00</td>\n",
       "      <td>22360.00</td>\n",
       "      <td>42583.00</td>\n",
       "    </tr>\n",
       "    <tr>\n",
       "      <th>scrap</th>\n",
       "      <td>162.0</td>\n",
       "      <td>3.84</td>\n",
       "      <td>6.01</td>\n",
       "      <td>0.01</td>\n",
       "      <td>0.59</td>\n",
       "      <td>1.41</td>\n",
       "      <td>4.00</td>\n",
       "      <td>30.00</td>\n",
       "    </tr>\n",
       "    <tr>\n",
       "      <th>rework</th>\n",
       "      <td>123.0</td>\n",
       "      <td>3.47</td>\n",
       "      <td>5.46</td>\n",
       "      <td>0.00</td>\n",
       "      <td>0.35</td>\n",
       "      <td>1.16</td>\n",
       "      <td>4.00</td>\n",
       "      <td>40.00</td>\n",
       "    </tr>\n",
       "    <tr>\n",
       "      <th>tothrs</th>\n",
       "      <td>415.0</td>\n",
       "      <td>29.20</td>\n",
       "      <td>47.70</td>\n",
       "      <td>0.00</td>\n",
       "      <td>0.00</td>\n",
       "      <td>12.00</td>\n",
       "      <td>40.00</td>\n",
       "      <td>320.00</td>\n",
       "    </tr>\n",
       "    <tr>\n",
       "      <th>union</th>\n",
       "      <td>471.0</td>\n",
       "      <td>0.20</td>\n",
       "      <td>0.40</td>\n",
       "      <td>0.00</td>\n",
       "      <td>0.00</td>\n",
       "      <td>0.00</td>\n",
       "      <td>0.00</td>\n",
       "      <td>1.00</td>\n",
       "    </tr>\n",
       "    <tr>\n",
       "      <th>grant</th>\n",
       "      <td>471.0</td>\n",
       "      <td>0.14</td>\n",
       "      <td>0.35</td>\n",
       "      <td>0.00</td>\n",
       "      <td>0.00</td>\n",
       "      <td>0.00</td>\n",
       "      <td>0.00</td>\n",
       "      <td>1.00</td>\n",
       "    </tr>\n",
       "    <tr>\n",
       "      <th>d89</th>\n",
       "      <td>471.0</td>\n",
       "      <td>0.33</td>\n",
       "      <td>0.47</td>\n",
       "      <td>0.00</td>\n",
       "      <td>0.00</td>\n",
       "      <td>0.00</td>\n",
       "      <td>1.00</td>\n",
       "      <td>1.00</td>\n",
       "    </tr>\n",
       "    <tr>\n",
       "      <th>d88</th>\n",
       "      <td>471.0</td>\n",
       "      <td>0.33</td>\n",
       "      <td>0.47</td>\n",
       "      <td>0.00</td>\n",
       "      <td>0.00</td>\n",
       "      <td>0.00</td>\n",
       "      <td>1.00</td>\n",
       "      <td>1.00</td>\n",
       "    </tr>\n",
       "    <tr>\n",
       "      <th>totrain</th>\n",
       "      <td>465.0</td>\n",
       "      <td>23.09</td>\n",
       "      <td>45.18</td>\n",
       "      <td>0.00</td>\n",
       "      <td>0.00</td>\n",
       "      <td>8.00</td>\n",
       "      <td>25.00</td>\n",
       "      <td>350.00</td>\n",
       "    </tr>\n",
       "    <tr>\n",
       "      <th>hrsemp</th>\n",
       "      <td>390.0</td>\n",
       "      <td>14.97</td>\n",
       "      <td>25.71</td>\n",
       "      <td>0.00</td>\n",
       "      <td>0.00</td>\n",
       "      <td>3.31</td>\n",
       "      <td>18.66</td>\n",
       "      <td>163.92</td>\n",
       "    </tr>\n",
       "    <tr>\n",
       "      <th>lscrap</th>\n",
       "      <td>162.0</td>\n",
       "      <td>0.39</td>\n",
       "      <td>1.49</td>\n",
       "      <td>-4.61</td>\n",
       "      <td>-0.52</td>\n",
       "      <td>0.35</td>\n",
       "      <td>1.39</td>\n",
       "      <td>3.40</td>\n",
       "    </tr>\n",
       "    <tr>\n",
       "      <th>lemploy</th>\n",
       "      <td>440.0</td>\n",
       "      <td>3.53</td>\n",
       "      <td>1.03</td>\n",
       "      <td>1.39</td>\n",
       "      <td>2.71</td>\n",
       "      <td>3.40</td>\n",
       "      <td>4.28</td>\n",
       "      <td>6.26</td>\n",
       "    </tr>\n",
       "    <tr>\n",
       "      <th>lsales</th>\n",
       "      <td>373.0</td>\n",
       "      <td>15.03</td>\n",
       "      <td>1.10</td>\n",
       "      <td>11.61</td>\n",
       "      <td>14.25</td>\n",
       "      <td>14.91</td>\n",
       "      <td>15.86</td>\n",
       "      <td>17.80</td>\n",
       "    </tr>\n",
       "    <tr>\n",
       "      <th>lrework</th>\n",
       "      <td>121.0</td>\n",
       "      <td>0.16</td>\n",
       "      <td>1.73</td>\n",
       "      <td>-4.61</td>\n",
       "      <td>-0.92</td>\n",
       "      <td>0.18</td>\n",
       "      <td>1.39</td>\n",
       "      <td>3.69</td>\n",
       "    </tr>\n",
       "    <tr>\n",
       "      <th>lhrsemp</th>\n",
       "      <td>390.0</td>\n",
       "      <td>1.65</td>\n",
       "      <td>1.54</td>\n",
       "      <td>0.00</td>\n",
       "      <td>0.00</td>\n",
       "      <td>1.46</td>\n",
       "      <td>2.98</td>\n",
       "      <td>5.11</td>\n",
       "    </tr>\n",
       "    <tr>\n",
       "      <th>lscrap_1</th>\n",
       "      <td>108.0</td>\n",
       "      <td>0.51</td>\n",
       "      <td>1.50</td>\n",
       "      <td>-4.61</td>\n",
       "      <td>-0.27</td>\n",
       "      <td>0.44</td>\n",
       "      <td>1.61</td>\n",
       "      <td>3.40</td>\n",
       "    </tr>\n",
       "    <tr>\n",
       "      <th>grant_1</th>\n",
       "      <td>471.0</td>\n",
       "      <td>0.08</td>\n",
       "      <td>0.27</td>\n",
       "      <td>0.00</td>\n",
       "      <td>0.00</td>\n",
       "      <td>0.00</td>\n",
       "      <td>0.00</td>\n",
       "      <td>1.00</td>\n",
       "    </tr>\n",
       "    <tr>\n",
       "      <th>clscrap</th>\n",
       "      <td>108.0</td>\n",
       "      <td>-0.22</td>\n",
       "      <td>0.58</td>\n",
       "      <td>-3.31</td>\n",
       "      <td>-0.40</td>\n",
       "      <td>-0.14</td>\n",
       "      <td>0.01</td>\n",
       "      <td>2.40</td>\n",
       "    </tr>\n",
       "    <tr>\n",
       "      <th>cgrant</th>\n",
       "      <td>471.0</td>\n",
       "      <td>0.06</td>\n",
       "      <td>0.46</td>\n",
       "      <td>-1.00</td>\n",
       "      <td>0.00</td>\n",
       "      <td>0.00</td>\n",
       "      <td>0.00</td>\n",
       "      <td>1.00</td>\n",
       "    </tr>\n",
       "    <tr>\n",
       "      <th>clemploy</th>\n",
       "      <td>290.0</td>\n",
       "      <td>0.08</td>\n",
       "      <td>0.25</td>\n",
       "      <td>-0.98</td>\n",
       "      <td>-0.03</td>\n",
       "      <td>0.07</td>\n",
       "      <td>0.18</td>\n",
       "      <td>1.67</td>\n",
       "    </tr>\n",
       "    <tr>\n",
       "      <th>clsales</th>\n",
       "      <td>245.0</td>\n",
       "      <td>0.12</td>\n",
       "      <td>0.44</td>\n",
       "      <td>-1.98</td>\n",
       "      <td>-0.01</td>\n",
       "      <td>0.11</td>\n",
       "      <td>0.22</td>\n",
       "      <td>2.90</td>\n",
       "    </tr>\n",
       "    <tr>\n",
       "      <th>lavgsal</th>\n",
       "      <td>406.0</td>\n",
       "      <td>9.78</td>\n",
       "      <td>0.35</td>\n",
       "      <td>8.35</td>\n",
       "      <td>9.55</td>\n",
       "      <td>9.79</td>\n",
       "      <td>10.02</td>\n",
       "      <td>10.66</td>\n",
       "    </tr>\n",
       "    <tr>\n",
       "      <th>clavgsal</th>\n",
       "      <td>267.0</td>\n",
       "      <td>0.06</td>\n",
       "      <td>0.08</td>\n",
       "      <td>-0.41</td>\n",
       "      <td>0.02</td>\n",
       "      <td>0.06</td>\n",
       "      <td>0.09</td>\n",
       "      <td>0.57</td>\n",
       "    </tr>\n",
       "    <tr>\n",
       "      <th>cgrant_1</th>\n",
       "      <td>314.0</td>\n",
       "      <td>0.11</td>\n",
       "      <td>0.32</td>\n",
       "      <td>0.00</td>\n",
       "      <td>0.00</td>\n",
       "      <td>0.00</td>\n",
       "      <td>0.00</td>\n",
       "      <td>1.00</td>\n",
       "    </tr>\n",
       "    <tr>\n",
       "      <th>chrsemp</th>\n",
       "      <td>251.0</td>\n",
       "      <td>5.94</td>\n",
       "      <td>26.62</td>\n",
       "      <td>-88.62</td>\n",
       "      <td>-0.07</td>\n",
       "      <td>0.20</td>\n",
       "      <td>11.01</td>\n",
       "      <td>142.00</td>\n",
       "    </tr>\n",
       "    <tr>\n",
       "      <th>clhrsemp</th>\n",
       "      <td>251.0</td>\n",
       "      <td>0.50</td>\n",
       "      <td>1.60</td>\n",
       "      <td>-4.03</td>\n",
       "      <td>-0.01</td>\n",
       "      <td>0.03</td>\n",
       "      <td>1.37</td>\n",
       "      <td>4.39</td>\n",
       "    </tr>\n",
       "  </tbody>\n",
       "</table>\n",
       "</div>"
      ],
      "text/plain": [
       "          count        mean         std        min         25%         50%  \\\n",
       "year      471.0     1988.00        0.82    1987.00     1987.00     1988.00   \n",
       "fcode     471.0   415708.89     4022.92  410032.00   410604.00   418084.00   \n",
       "employ    440.0       59.32       74.12       4.00       15.00       30.00   \n",
       "sales     373.0  6116036.54  7912517.30  110000.00  1550000.00  3000000.00   \n",
       "avgsal    406.0    18872.83     6703.16    4237.00    14102.50    17773.00   \n",
       "scrap     162.0        3.84        6.01       0.01        0.59        1.41   \n",
       "rework    123.0        3.47        5.46       0.00        0.35        1.16   \n",
       "tothrs    415.0       29.20       47.70       0.00        0.00       12.00   \n",
       "union     471.0        0.20        0.40       0.00        0.00        0.00   \n",
       "grant     471.0        0.14        0.35       0.00        0.00        0.00   \n",
       "d89       471.0        0.33        0.47       0.00        0.00        0.00   \n",
       "d88       471.0        0.33        0.47       0.00        0.00        0.00   \n",
       "totrain   465.0       23.09       45.18       0.00        0.00        8.00   \n",
       "hrsemp    390.0       14.97       25.71       0.00        0.00        3.31   \n",
       "lscrap    162.0        0.39        1.49      -4.61       -0.52        0.35   \n",
       "lemploy   440.0        3.53        1.03       1.39        2.71        3.40   \n",
       "lsales    373.0       15.03        1.10      11.61       14.25       14.91   \n",
       "lrework   121.0        0.16        1.73      -4.61       -0.92        0.18   \n",
       "lhrsemp   390.0        1.65        1.54       0.00        0.00        1.46   \n",
       "lscrap_1  108.0        0.51        1.50      -4.61       -0.27        0.44   \n",
       "grant_1   471.0        0.08        0.27       0.00        0.00        0.00   \n",
       "clscrap   108.0       -0.22        0.58      -3.31       -0.40       -0.14   \n",
       "cgrant    471.0        0.06        0.46      -1.00        0.00        0.00   \n",
       "clemploy  290.0        0.08        0.25      -0.98       -0.03        0.07   \n",
       "clsales   245.0        0.12        0.44      -1.98       -0.01        0.11   \n",
       "lavgsal   406.0        9.78        0.35       8.35        9.55        9.79   \n",
       "clavgsal  267.0        0.06        0.08      -0.41        0.02        0.06   \n",
       "cgrant_1  314.0        0.11        0.32       0.00        0.00        0.00   \n",
       "chrsemp   251.0        5.94       26.62     -88.62       -0.07        0.20   \n",
       "clhrsemp  251.0        0.50        1.60      -4.03       -0.01        0.03   \n",
       "\n",
       "                 75%          max  \n",
       "year         1989.00      1989.00  \n",
       "fcode      419309.00    419486.00  \n",
       "employ         72.00       525.00  \n",
       "sales     7700000.00  54000000.00  \n",
       "avgsal      22360.00     42583.00  \n",
       "scrap           4.00        30.00  \n",
       "rework          4.00        40.00  \n",
       "tothrs         40.00       320.00  \n",
       "union           0.00         1.00  \n",
       "grant           0.00         1.00  \n",
       "d89             1.00         1.00  \n",
       "d88             1.00         1.00  \n",
       "totrain        25.00       350.00  \n",
       "hrsemp         18.66       163.92  \n",
       "lscrap          1.39         3.40  \n",
       "lemploy         4.28         6.26  \n",
       "lsales         15.86        17.80  \n",
       "lrework         1.39         3.69  \n",
       "lhrsemp         2.98         5.11  \n",
       "lscrap_1        1.61         3.40  \n",
       "grant_1         0.00         1.00  \n",
       "clscrap         0.01         2.40  \n",
       "cgrant          0.00         1.00  \n",
       "clemploy        0.18         1.67  \n",
       "clsales         0.22         2.90  \n",
       "lavgsal        10.02        10.66  \n",
       "clavgsal        0.09         0.57  \n",
       "cgrant_1        0.00         1.00  \n",
       "chrsemp        11.01       142.00  \n",
       "clhrsemp        1.37         4.39  "
      ]
     },
     "execution_count": 799,
     "metadata": {},
     "output_type": "execute_result"
    }
   ],
   "source": [
    "jtrain.describe().T.apply(round2)"
   ]
  },
  {
   "cell_type": "code",
   "execution_count": 800,
   "metadata": {},
   "outputs": [
    {
     "data": {
      "text/html": [
       "<div>\n",
       "<style scoped>\n",
       "    .dataframe tbody tr th:only-of-type {\n",
       "        vertical-align: middle;\n",
       "    }\n",
       "\n",
       "    .dataframe tbody tr th {\n",
       "        vertical-align: top;\n",
       "    }\n",
       "\n",
       "    .dataframe thead th {\n",
       "        text-align: right;\n",
       "    }\n",
       "</style>\n",
       "<table border=\"1\" class=\"dataframe\">\n",
       "  <thead>\n",
       "    <tr style=\"text-align: right;\">\n",
       "      <th></th>\n",
       "      <th>hrsemp</th>\n",
       "      <th>avgsal</th>\n",
       "    </tr>\n",
       "  </thead>\n",
       "  <tbody>\n",
       "    <tr>\n",
       "      <th>hrsemp</th>\n",
       "      <td>1.000000</td>\n",
       "      <td>0.090012</td>\n",
       "    </tr>\n",
       "    <tr>\n",
       "      <th>avgsal</th>\n",
       "      <td>0.090012</td>\n",
       "      <td>1.000000</td>\n",
       "    </tr>\n",
       "  </tbody>\n",
       "</table>\n",
       "</div>"
      ],
      "text/plain": [
       "          hrsemp    avgsal\n",
       "hrsemp  1.000000  0.090012\n",
       "avgsal  0.090012  1.000000"
      ]
     },
     "execution_count": 800,
     "metadata": {},
     "output_type": "execute_result"
    }
   ],
   "source": [
    "jtrain[[\"hrsemp\", \"avgsal\"]].corr()"
   ]
  },
  {
   "cell_type": "code",
   "execution_count": 801,
   "metadata": {},
   "outputs": [],
   "source": [
    "jtrain.describe().T.apply(round2).to_csv(\"teste.csv\")"
   ]
  },
  {
   "cell_type": "markdown",
   "metadata": {},
   "source": [
    "### 2) Equação Estimada e Hipóteses para o modelo escolhido"
   ]
  },
  {
   "cell_type": "code",
   "execution_count": 1008,
   "metadata": {},
   "outputs": [],
   "source": [
    "import statsmodels.formula.api as smf"
   ]
  },
  {
   "cell_type": "code",
   "execution_count": 1009,
   "metadata": {},
   "outputs": [],
   "source": [
    "df[\"time_dummies\"] = ((df[\"d88\"] == 1) | (df[\"d89\"] == 1)).astype(int)"
   ]
  },
  {
   "cell_type": "code",
   "execution_count": 1055,
   "metadata": {},
   "outputs": [],
   "source": [
    "df_time = df.loc[df[\"d89\"] == 1]"
   ]
  },
  {
   "cell_type": "code",
   "execution_count": 1108,
   "metadata": {},
   "outputs": [],
   "source": [
    "# x = [\"grant\", \"grant_1\", \"lsales\", \"lemploy\", \"d88\", \"d89\"]\n",
    "x = [\"grant\", \"d88\", \"d89\", \"grant_1\", \"employ\", \"scrap\", \"avgsal\", \"sales\"]"
   ]
  },
  {
   "cell_type": "code",
   "execution_count": 1109,
   "metadata": {},
   "outputs": [
    {
     "data": {
      "image/png": "[encoded data removed]",
      "text/plain": [
       "<Figure size 432x288 with 1 Axes>"
      ]
     },
     "metadata": {
      "needs_background": "light"
     },
     "output_type": "display_data"
    }
   ],
   "source": [
    "plt.scatter(df_time[\"grant\"], df_time[\"hrsemp\"], alpha=0.1, color=\"#000000\")\n",
    "plt.ylabel(\"hresmp\")\n",
    "plt.show()"
   ]
  },
  {
   "cell_type": "code",
   "execution_count": 1110,
   "metadata": {},
   "outputs": [],
   "source": [
    "import seaborn as sns"
   ]
  },
  {
   "cell_type": "code",
   "execution_count": 1113,
   "metadata": {},
   "outputs": [],
   "source": [
    "plt.style.use(\"ggplot\")"
   ]
  },
  {
   "cell_type": "code",
   "execution_count": 1126,
   "metadata": {},
   "outputs": [
    {
     "data": {
      "image/png": "[encoded data removed]",
      "text/plain": [
       "<Figure size 720x432 with 1 Axes>"
      ]
     },
     "metadata": {},
     "output_type": "display_data"
    }
   ],
   "source": [
    "plt.figure(1, figsize=(10, 6))\n",
    "sns.boxplot(y=\"hrsemp\", x=\"grant\", data=df)\n",
    "plt.xlabel(\"Subsídio\")\n",
    "plt.ylabel(\"Horas médias de\\ntreinamento por funcionário\")\n",
    "plt.title(\"Distribuição das Horas médias de\\ntreinamento por funcionário por Subsídio\")\n",
    "plt.show()"
   ]
  },
  {
   "cell_type": "code",
   "execution_count": 1102,
   "metadata": {},
   "outputs": [
    {
     "data": {
      "text/plain": [
       "'lhrsemp ~ grant + grant_1 + employ + scrap + avgsal + sales'"
      ]
     },
     "execution_count": 1102,
     "metadata": {},
     "output_type": "execute_result"
    }
   ],
   "source": [
    "formula = gform(\"lhrsemp\", x)\n",
    "formula"
   ]
  },
  {
   "cell_type": "code",
   "execution_count": 1103,
   "metadata": {},
   "outputs": [],
   "source": [
    "reg = smf.ols(formula, data=df_time, missing=\"drop\").fit()"
   ]
  },
  {
   "cell_type": "code",
   "execution_count": 1104,
   "metadata": {},
   "outputs": [
    {
     "name": "stdout",
     "output_type": "stream",
     "text": [
      "                            OLS Regression Results                            \n",
      "==============================================================================\n",
      "Dep. Variable:                lhrsemp   R-squared:                       0.463\n",
      "Model:                            OLS   Adj. R-squared:                  0.378\n",
      "Method:                 Least Squares   F-statistic:                     5.463\n",
      "Date:                Fri, 30 Apr 2021   Prob (F-statistic):           0.000373\n",
      "Time:                        01:31:15   Log-Likelihood:                -64.686\n",
      "No. Observations:                  45   AIC:                             143.4\n",
      "Df Residuals:                      38   BIC:                             156.0\n",
      "Df Model:                           6                                         \n",
      "Covariance Type:            nonrobust                                         \n",
      "==============================================================================\n",
      "                 coef    std err          t      P>|t|      [0.025      0.975]\n",
      "------------------------------------------------------------------------------\n",
      "Intercept      2.0617      0.606      3.401      0.002       0.835       3.289\n",
      "grant          1.7474      0.444      3.936      0.000       0.849       2.646\n",
      "grant_1       -0.7255      0.380     -1.911      0.064      -1.494       0.043\n",
      "employ        -0.0015      0.004     -0.340      0.736      -0.011       0.007\n",
      "scrap         -0.0091      0.031     -0.295      0.770      -0.071       0.053\n",
      "avgsal      9.747e-06   2.73e-05      0.357      0.723   -4.55e-05     6.5e-05\n",
      "sales       1.109e-08   3.47e-08      0.320      0.751   -5.92e-08    8.13e-08\n",
      "==============================================================================\n",
      "Omnibus:                        0.282   Durbin-Watson:                   2.611\n",
      "Prob(Omnibus):                  0.869   Jarque-Bera (JB):                0.087\n",
      "Skew:                          -0.107   Prob(JB):                        0.958\n",
      "Kurtosis:                       2.986   Cond. No.                     5.33e+07\n",
      "==============================================================================\n",
      "\n",
      "Notes:\n",
      "[1] Standard Errors assume that the covariance matrix of the errors is correctly specified.\n",
      "[2] The condition number is large, 5.33e+07. This might indicate that there are\n",
      "strong multicollinearity or other numerical problems.\n"
     ]
    }
   ],
   "source": [
    "print(reg.summary())"
   ]
  },
  {
   "cell_type": "code",
   "execution_count": 1105,
   "metadata": {},
   "outputs": [
    {
     "data": {
      "text/plain": [
       "Intercept    0.001592\n",
       "grant        0.000341\n",
       "grant_1      0.063554\n",
       "employ       0.735550\n",
       "scrap        0.769799\n",
       "avgsal       0.722935\n",
       "sales        0.751031\n",
       "dtype: float64"
      ]
     },
     "execution_count": 1105,
     "metadata": {},
     "output_type": "execute_result"
    }
   ],
   "source": [
    "reg.pvalues.apply(lambda x: round(x, 8))"
   ]
  },
  {
   "cell_type": "code",
   "execution_count": 1023,
   "metadata": {},
   "outputs": [],
   "source": [
    "saveresults(reg, \"save\")"
   ]
  },
  {
   "cell_type": "markdown",
   "metadata": {},
   "source": [
    "### 3) Coeficientes, Desvio-padrão, $R^2$"
   ]
  },
  {
   "cell_type": "markdown",
   "metadata": {},
   "source": [
    "#### 3.1) Coeficientes:"
   ]
  },
  {
   "cell_type": "code",
   "execution_count": 1107,
   "metadata": {},
   "outputs": [
    {
     "data": {
      "text/plain": [
       "Intercept    2.06170\n",
       "grant        1.74744\n",
       "grant_1     -0.72549\n",
       "employ      -0.00152\n",
       "scrap       -0.00906\n",
       "avgsal       0.00001\n",
       "sales        0.00000\n",
       "dtype: float64"
      ]
     },
     "execution_count": 1107,
     "metadata": {},
     "output_type": "execute_result"
    }
   ],
   "source": [
    "reg.params.apply(lambda x: round(x, 5))"
   ]
  },
  {
   "cell_type": "markdown",
   "metadata": {},
   "source": [
    "#### 3.2) Desvio-padrão e erro-padrão:"
   ]
  },
  {
   "cell_type": "markdown",
   "metadata": {},
   "source": [
    "$$\n",
    "std_{err} = \\frac{std}{\\sqrt{n}} \\rightarrow std_{err} \\sqrt{n} = std \n",
    "$$"
   ]
  },
  {
   "cell_type": "code",
   "execution_count": 1094,
   "metadata": {},
   "outputs": [
    {
     "data": {
      "text/plain": [
       "Intercept    4.067\n",
       "grant        2.978\n",
       "grant_1      2.547\n",
       "employ       0.030\n",
       "scrap        0.206\n",
       "avgsal       0.000\n",
       "sales        0.000\n",
       "dtype: float64"
      ]
     },
     "execution_count": 1094,
     "metadata": {},
     "output_type": "execute_result"
    }
   ],
   "source": [
    "np.round(reg.bse*np.sqrt(reg.nobs), 3)"
   ]
  },
  {
   "cell_type": "code",
   "execution_count": 1096,
   "metadata": {},
   "outputs": [
    {
     "data": {
      "text/plain": [
       "Intercept    0.606\n",
       "grant        0.444\n",
       "grant_1      0.380\n",
       "employ       0.004\n",
       "scrap        0.031\n",
       "avgsal       0.000\n",
       "sales        0.000\n",
       "dtype: float64"
      ]
     },
     "execution_count": 1096,
     "metadata": {},
     "output_type": "execute_result"
    }
   ],
   "source": [
    "# Erro padrão\n",
    "np.round(reg.bse, 3)"
   ]
  },
  {
   "cell_type": "markdown",
   "metadata": {},
   "source": [
    "#### 3.3) $R^2$:"
   ]
  },
  {
   "cell_type": "code",
   "execution_count": 1097,
   "metadata": {},
   "outputs": [
    {
     "data": {
      "text/plain": [
       "0.463"
      ]
     },
     "execution_count": 1097,
     "metadata": {},
     "output_type": "execute_result"
    }
   ],
   "source": [
    "np.round(reg.rsquared, 3)"
   ]
  },
  {
   "cell_type": "markdown",
   "metadata": {},
   "source": [
    "### 4) Teste de hipótese dos coeficientes:"
   ]
  },
  {
   "cell_type": "markdown",
   "metadata": {},
   "source": [
    "#### 4.1) Teste t\n",
    "\n",
    "Teste de Hipótese:\n",
    "- $H_0$: $\\beta_k$ ou $\\beta_{k+1}$ ou ... ou $\\beta_{k+s} = 0$\n",
    "- $H_1$: $\\beta_k$ ou $\\beta_{k+1}$ ou ... ou $\\beta_{k+s} \\neq 0$ "
   ]
  },
  {
   "cell_type": "code",
   "execution_count": 400,
   "metadata": {},
   "outputs": [],
   "source": [
    "def hypos(reg, value_hypo=\"0\"):\n",
    "    params = reg.params.index\n",
    "    hypothesis = [param + f\" = {value_hypo}\" for n, param in enumerate(reg.params.index)]\n",
    "    hypothesis = \", \".join(hypothesis)\n",
    "    return hypothesis"
   ]
  },
  {
   "cell_type": "markdown",
   "metadata": {},
   "source": [
    "$$\n",
    "\\large \\hat{t}(H_0) = \\frac{(\\hat{\\beta}_{MQO_k} - \\beta_k^0)}{\\left[\\sqrt{\\frac{\\hat{\\sigma}^2}{\\sum_{i=1}^{N}{(x_{ik} - \\bar{x}_k)^2 (1 - R_k^2)}}}\\right]} \\sim t_{N-(K+1)}\n",
    "$$"
   ]
  },
  {
   "cell_type": "code",
   "execution_count": 401,
   "metadata": {},
   "outputs": [
    {
     "data": {
      "text/plain": [
       "<class 'statsmodels.stats.contrast.ContrastResults'>\n",
       "                             Test for Constraints                             \n",
       "==============================================================================\n",
       "                 coef    std err          t      P>|t|      [0.025      0.975]\n",
       "------------------------------------------------------------------------------\n",
       "c0            12.4584      5.687      2.191      0.038       0.746      24.170\n",
       "c1            -0.0293      0.023     -1.283      0.211      -0.076       0.018\n",
       "c2            -0.9620      0.453     -2.126      0.044      -1.894      -0.030\n",
       "c3             0.7615      0.407      1.869      0.073      -0.078       1.601\n",
       "=============================================================================="
      ]
     },
     "execution_count": 401,
     "metadata": {},
     "output_type": "execute_result"
    }
   ],
   "source": [
    "reg.t_test(hypos(reg))"
   ]
  },
  {
   "cell_type": "markdown",
   "metadata": {},
   "source": [
    "#### 4.2) Teste F\n",
    "\n",
    "Teste de Hipótese:\n",
    "- $H_0$: $\\beta_k$ e $\\beta_{k+1}$ e ... e $\\beta_{k+s} = 0$\n",
    "- $H_1$: $\\beta_k$ ou $\\beta_{k+1}$ ou ... ou $\\beta_{k+s} \\neq 1$ "
   ]
  },
  {
   "cell_type": "markdown",
   "metadata": {},
   "source": [
    "$$\n",
    "\\Large \\hat{F} = \\frac{\\frac{R_{IR}^2 - R_{IR}^2}{s}}{\\frac{(1 - R_{IR}^2)}{(N - (K+1)}} \\sim F_{s, N - (K+1)}\n",
    "$$"
   ]
  },
  {
   "cell_type": "code",
   "execution_count": 402,
   "metadata": {},
   "outputs": [
    {
     "data": {
      "text/plain": [
       "<class 'statsmodels.stats.contrast.ContrastResults'>\n",
       "<F test: F=array([[2.91905628]]), p=0.041364467667112687, df_denom=25, df_num=4>"
      ]
     },
     "execution_count": 402,
     "metadata": {},
     "output_type": "execute_result"
    }
   ],
   "source": [
    "reg.f_test(hypos(reg))"
   ]
  },
  {
   "cell_type": "markdown",
   "metadata": {},
   "source": [
    "#### 4.3) Teste LM"
   ]
  },
  {
   "cell_type": "code",
   "execution_count": 434,
   "metadata": {},
   "outputs": [],
   "source": [
    "from statsmodels.stats.diagnostic import linear_lm"
   ]
  },
  {
   "cell_type": "code",
   "execution_count": 435,
   "metadata": {},
   "outputs": [
    {
     "name": "stderr",
     "output_type": "stream",
     "text": [
      "d:\\office\\projetos\\jupybook\\introducao-econometria-em-python\\env\\lib\\site-packages\\statsmodels\\base\\model.py:1834: ValueWarning: covariance of constraints does not have full rank. The number of constraints is 2, but rank is 1\n",
      "  'rank is %d' % (J, J_), ValueWarning)\n"
     ]
    },
    {
     "data": {
      "text/plain": [
       "(1.113498881129951,\n",
       " 0.5730688338696257,\n",
       " <class 'statsmodels.stats.contrast.ContrastResults'>\n",
       " <F test: F=array([[0.2320701]]), p=0.6343568796674479, df_denom=24, df_num=1>)"
      ]
     },
     "execution_count": 435,
     "metadata": {},
     "output_type": "execute_result"
    }
   ],
   "source": [
    "linear_lm(reg.resid, np.array(df[model_columns[1:]]))"
   ]
  },
  {
   "cell_type": "markdown",
   "metadata": {},
   "source": [
    "### 5) Discussão dos resultados encontrados"
   ]
  },
  {
   "cell_type": "code",
   "execution_count": null,
   "metadata": {},
   "outputs": [],
   "source": []
  }
 ],
 "metadata": {
  "kernelspec": {
   "display_name": "Python 3",
   "language": "python",
   "name": "python3"
  },
  "language_info": {
   "codemirror_mode": {
    "name": "ipython",
    "version": 3
   },
   "file_extension": ".py",
   "mimetype": "text/x-python",
   "name": "python",
   "nbconvert_exporter": "python",
   "pygments_lexer": "ipython3",
   "version": "3.7.9"
  },
  "metadata": {
   "interpreter": {
    "hash": "e371fa212a86eef05a05c1a4bb19f1163a8f087c425547739b24c1fbf728b7a5"
   }
  }
 },
 "nbformat": 4,
 "nbformat_minor": 4
}
