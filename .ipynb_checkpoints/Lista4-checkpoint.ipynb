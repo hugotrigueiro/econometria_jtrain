{
 "metadata": {
  "language_info": {
   "codemirror_mode": {
    "name": "ipython",
    "version": 3
   },
   "file_extension": ".py",
   "mimetype": "text/x-python",
   "name": "python",
   "nbconvert_exporter": "python",
   "pygments_lexer": "ipython3",
   "version": "3.7.9"
  },
  "orig_nbformat": 2,
  "kernelspec": {
   "name": "python379jvsc74a57bd00d25cca414b53d1eb224aa47ab7617b60dfe93c3562f0ee53b989cd3fd060b8e",
   "display_name": "Python 3.7.9 32-bit"
  },
  "metadata": {
   "interpreter": {
    "hash": "0d25cca414b53d1eb224aa47ab7617b60dfe93c3562f0ee53b989cd3fd060b8e"
   }
  }
 },
 "nbformat": 4,
 "nbformat_minor": 2,
 "cells": [
  {
   "cell_type": "code",
   "execution_count": 2,
   "metadata": {},
   "outputs": [
    {
     "output_type": "error",
     "ename": "ModuleNotFoundError",
     "evalue": "No module named 'pandas'",
     "traceback": [
      "\u001b[1;31m---------------------------------------------------------------------------\u001b[0m",
      "\u001b[1;31mModuleNotFoundError\u001b[0m                       Traceback (most recent call last)",
      "\u001b[1;32m<ipython-input-2-a9ab71b00326>\u001b[0m in \u001b[0;36m<module>\u001b[1;34m\u001b[0m\n\u001b[1;32m----> 1\u001b[1;33m \u001b[1;32mimport\u001b[0m \u001b[0mpandas\u001b[0m \u001b[1;32mas\u001b[0m \u001b[0mpd\u001b[0m\u001b[1;33m\u001b[0m\u001b[1;33m\u001b[0m\u001b[0m\n\u001b[0m\u001b[0;32m      2\u001b[0m \u001b[1;32mimport\u001b[0m \u001b[0mnumpy\u001b[0m \u001b[1;32mas\u001b[0m \u001b[0mnp\u001b[0m\u001b[1;33m\u001b[0m\u001b[1;33m\u001b[0m\u001b[0m\n\u001b[0;32m      3\u001b[0m \u001b[1;32mimport\u001b[0m \u001b[0mstatsmodels\u001b[0m\u001b[1;33m.\u001b[0m\u001b[0mapi\u001b[0m \u001b[1;32mas\u001b[0m \u001b[0msm\u001b[0m\u001b[1;33m\u001b[0m\u001b[1;33m\u001b[0m\u001b[0m\n",
      "\u001b[1;31mModuleNotFoundError\u001b[0m: No module named 'pandas'"
     ]
    }
   ],
   "source": [
    "import pandas as pd\n",
    "import numpy as np\n",
    "import statsmodels.api as sm"
   ]
  },
  {
   "cell_type": "code",
   "execution_count": 3,
   "metadata": {},
   "outputs": [],
   "source": [
    "df = pd.read_csv(\"lista4.txt\", sep=\" \")"
   ]
  },
  {
   "cell_type": "code",
   "execution_count": 4,
   "metadata": {},
   "outputs": [
    {
     "output_type": "execute_result",
     "data": {
      "text/plain": [
       "   AGE  EDUC  MEDUC  SIBS     LWAGE  TENURE  URBAN  SOUTH  MARRIED\n",
       "0   31    12    8.0     1  6.645091       2      1      0        1\n",
       "1   37    18   14.0     1  6.694562      16      1      0        1\n",
       "2   33    14   14.0     1  6.715384       9      1      0        1\n",
       "3   32    12   12.0     4  6.476973       7      1      0        1\n",
       "4   34    11    6.0    10  6.331502       5      1      0        1"
      ],
      "text/html": "<div>\n<style scoped>\n    .dataframe tbody tr th:only-of-type {\n        vertical-align: middle;\n    }\n\n    .dataframe tbody tr th {\n        vertical-align: top;\n    }\n\n    .dataframe thead th {\n        text-align: right;\n    }\n</style>\n<table border=\"1\" class=\"dataframe\">\n  <thead>\n    <tr style=\"text-align: right;\">\n      <th></th>\n      <th>AGE</th>\n      <th>EDUC</th>\n      <th>MEDUC</th>\n      <th>SIBS</th>\n      <th>LWAGE</th>\n      <th>TENURE</th>\n      <th>URBAN</th>\n      <th>SOUTH</th>\n      <th>MARRIED</th>\n    </tr>\n  </thead>\n  <tbody>\n    <tr>\n      <th>0</th>\n      <td>31</td>\n      <td>12</td>\n      <td>8.0</td>\n      <td>1</td>\n      <td>6.645091</td>\n      <td>2</td>\n      <td>1</td>\n      <td>0</td>\n      <td>1</td>\n    </tr>\n    <tr>\n      <th>1</th>\n      <td>37</td>\n      <td>18</td>\n      <td>14.0</td>\n      <td>1</td>\n      <td>6.694562</td>\n      <td>16</td>\n      <td>1</td>\n      <td>0</td>\n      <td>1</td>\n    </tr>\n    <tr>\n      <th>2</th>\n      <td>33</td>\n      <td>14</td>\n      <td>14.0</td>\n      <td>1</td>\n      <td>6.715384</td>\n      <td>9</td>\n      <td>1</td>\n      <td>0</td>\n      <td>1</td>\n    </tr>\n    <tr>\n      <th>3</th>\n      <td>32</td>\n      <td>12</td>\n      <td>12.0</td>\n      <td>4</td>\n      <td>6.476973</td>\n      <td>7</td>\n      <td>1</td>\n      <td>0</td>\n      <td>1</td>\n    </tr>\n    <tr>\n      <th>4</th>\n      <td>34</td>\n      <td>11</td>\n      <td>6.0</td>\n      <td>10</td>\n      <td>6.331502</td>\n      <td>5</td>\n      <td>1</td>\n      <td>0</td>\n      <td>1</td>\n    </tr>\n  </tbody>\n</table>\n</div>"
     },
     "metadata": {},
     "execution_count": 4
    }
   ],
   "source": [
    "df.head()"
   ]
  },
  {
   "cell_type": "code",
   "execution_count": 5,
   "metadata": {},
   "outputs": [
    {
     "output_type": "execute_result",
     "data": {
      "text/plain": [
       "AGE         0\n",
       "EDUC        0\n",
       "MEDUC      78\n",
       "SIBS        0\n",
       "LWAGE       0\n",
       "TENURE      0\n",
       "URBAN       0\n",
       "SOUTH       0\n",
       "MARRIED     0\n",
       "dtype: int64"
      ]
     },
     "metadata": {},
     "execution_count": 5
    }
   ],
   "source": [
    "df.isnull().sum()"
   ]
  },
  {
   "cell_type": "code",
   "execution_count": 113,
   "metadata": {},
   "outputs": [],
   "source": [
    "family = [\"SIBS\", \"MEDUC\"]\n",
    "indiv = [\"EDUC\", \"AGE\", \"MARRIED\"]\n",
    "regiao = [\"SOUTH\", \"URBAN\"]\n",
    "emp = [\"TENURE\"]\n",
    "categs = {\"family\": family, \"indiv\": indiv, \"regiao\": regiao, \"emp\": emp}"
   ]
  },
  {
   "cell_type": "code",
   "execution_count": 15,
   "metadata": {},
   "outputs": [],
   "source": [
    "df = df.dropna().reset_index(drop=True)"
   ]
  },
  {
   "cell_type": "code",
   "execution_count": 16,
   "metadata": {},
   "outputs": [],
   "source": [
    "X = sm.add_constant(df.drop(\"LWAGE\", axis=1))\n",
    "y = df[[\"LWAGE\"]]"
   ]
  },
  {
   "cell_type": "code",
   "execution_count": 17,
   "metadata": {},
   "outputs": [],
   "source": [
    "reg = sm.OLS(y, X).fit()"
   ]
  },
  {
   "cell_type": "code",
   "execution_count": 335,
   "metadata": {},
   "outputs": [
    {
     "output_type": "stream",
     "name": "stdout",
     "text": [
      "                            OLS Regression Results                            \n==============================================================================\nDep. Variable:                  LWAGE   R-squared:                       0.233\nModel:                            OLS   Adj. R-squared:                  0.226\nMethod:                 Least Squares   F-statistic:                     32.25\nDate:                Tue, 20 Apr 2021   Prob (F-statistic):           2.08e-44\nTime:                        00:13:31   Log-Likelihood:                -353.60\nNo. Observations:                 857   AIC:                             725.2\nDf Residuals:                     848   BIC:                             768.0\nDf Model:                           8                                         \nCovariance Type:            nonrobust                                         \n==============================================================================\n                 coef    std err          t      P>|t|      [0.025      0.975]\n------------------------------------------------------------------------------\nconst          5.1282      0.169     30.286      0.000       4.796       5.461\nAGE            0.0159      0.004      3.717      0.000       0.007       0.024\nEDUC           0.0494      0.006      7.919      0.000       0.037       0.062\nMEDUC          0.0134      0.005      2.732      0.006       0.004       0.023\nSIBS          -0.0078      0.006     -1.329      0.184      -0.019       0.004\nTENURE         0.0107      0.003      4.096      0.000       0.006       0.016\nURBAN          0.1696      0.028      5.971      0.000       0.114       0.225\nSOUTH         -0.1016      0.027     -3.728      0.000      -0.155      -0.048\nMARRIED        0.2068      0.041      5.053      0.000       0.126       0.287\n==============================================================================\nOmnibus:                       35.881   Durbin-Watson:                   1.816\nProb(Omnibus):                  0.000   Jarque-Bera (JB):               76.257\nSkew:                          -0.238   Prob(JB):                     2.76e-17\nKurtosis:                       4.382   Cond. No.                         516.\n==============================================================================\n\nNotes:\n[1] Standard Errors assume that the covariance matrix of the errors is correctly specified.\n"
     ]
    }
   ],
   "source": [
    "print(reg.summary())"
   ]
  },
  {
   "cell_type": "code",
   "execution_count": 334,
   "metadata": {},
   "outputs": [],
   "source": [
    "with open(\"results.html\", \"w\") as file:\n",
    "    file.write(reg.summary().as_html())"
   ]
  },
  {
   "cell_type": "code",
   "execution_count": 301,
   "metadata": {},
   "outputs": [],
   "source": [
    "pd.DataFrame(str(reg.summary()).split(\"\\n\")).to_csv(\"results.csv\", sep=\";\", index=False)"
   ]
  },
  {
   "cell_type": "code",
   "execution_count": 76,
   "metadata": {},
   "outputs": [
    {
     "output_type": "stream",
     "name": "stdout",
     "text": [
      "<F test: F=array([[5.691041]]), p=0.0035063277370926157, df_denom=848, df_num=2>\n<F test: F=array([[34.70445788]]), p=3.6802840587380885e-21, df_denom=848, df_num=3>\n<F test: F=array([[27.48565654]]), p=2.7169721581930207e-12, df_denom=848, df_num=2>\n<F test: F=array([[16.77730486]]), p=4.60606047354491e-05, df_denom=848, df_num=1>\n"
     ]
    }
   ],
   "source": [
    "for categ in categs:\n",
    "    index_categ = np.arange(reg.params.size)[reg.params.index.isin(categ)]\n",
    "    print(reg.f_test(np.identity(len(reg.params))[index_categ, :]))"
   ]
  },
  {
   "cell_type": "code",
   "execution_count": 188,
   "metadata": {},
   "outputs": [],
   "source": [
    "fam = sm.OLS(y, sm.add_constant(X.drop(categs[\"family\"], axis=1))).fit()"
   ]
  },
  {
   "cell_type": "code",
   "execution_count": 189,
   "metadata": {},
   "outputs": [],
   "source": [
    "variables = []\n",
    "for key in categs.keys():\n",
    "    if key != \"emp\":\n",
    "        for value in categs[key]:\n",
    "            variables.append(value)"
   ]
  },
  {
   "cell_type": "code",
   "execution_count": 190,
   "metadata": {},
   "outputs": [],
   "source": [
    "rest = sm.OLS(y, X[categs[\"emp\"]]).fit()"
   ]
  },
  {
   "cell_type": "code",
   "execution_count": 191,
   "metadata": {},
   "outputs": [
    {
     "output_type": "stream",
     "name": "stdout",
     "text": [
      "                                 OLS Regression Results                                \n=======================================================================================\nDep. Variable:                  LWAGE   R-squared (uncentered):                   0.682\nModel:                            OLS   Adj. R-squared (uncentered):              0.681\nMethod:                 Least Squares   F-statistic:                              1832.\nDate:                Mon, 19 Apr 2021   Prob (F-statistic):                   7.01e-215\nTime:                        05:00:40   Log-Likelihood:                         -2369.3\nNo. Observations:                 857   AIC:                                      4741.\nDf Residuals:                     856   BIC:                                      4745.\nDf Model:                           1                                                  \nCovariance Type:            nonrobust                                                  \n==============================================================================\n                 coef    std err          t      P>|t|      [0.025      0.975]\n------------------------------------------------------------------------------\nTENURE         0.6388      0.015     42.798      0.000       0.610       0.668\n==============================================================================\nOmnibus:                       71.762   Durbin-Watson:                   1.340\nProb(Omnibus):                  0.000   Jarque-Bera (JB):               45.247\nSkew:                          -0.434   Prob(JB):                     1.50e-10\nKurtosis:                       2.284   Cond. No.                         1.00\n==============================================================================\n\nNotes:\n[1] R² is computed without centering (uncentered) since the model does not contain a constant.\n[2] Standard Errors assume that the covariance matrix of the errors is correctly specified.\n"
     ]
    }
   ],
   "source": [
    "print(rest.summary())"
   ]
  },
  {
   "cell_type": "code",
   "execution_count": 192,
   "metadata": {},
   "outputs": [
    {
     "output_type": "stream",
     "name": "stdout",
     "text": [
      "                            OLS Regression Results                            \n==============================================================================\nDep. Variable:                  LWAGE   R-squared:                       0.223\nModel:                            OLS   Adj. R-squared:                  0.217\nMethod:                 Least Squares   F-statistic:                     40.65\nDate:                Mon, 19 Apr 2021   Prob (F-statistic):           1.26e-43\nTime:                        05:00:40   Log-Likelihood:                -359.32\nNo. Observations:                 857   AIC:                             732.6\nDf Residuals:                     850   BIC:                             765.9\nDf Model:                           6                                         \nCovariance Type:            nonrobust                                         \n==============================================================================\n                 coef    std err          t      P>|t|      [0.025      0.975]\n------------------------------------------------------------------------------\nconst          5.1523      0.161     32.083      0.000       4.837       5.467\nAGE            0.0155      0.004      3.633      0.000       0.007       0.024\nEDUC           0.0574      0.006      9.898      0.000       0.046       0.069\nTENURE         0.0109      0.003      4.130      0.000       0.006       0.016\nURBAN          0.1697      0.029      5.944      0.000       0.114       0.226\nSOUTH         -0.1135      0.027     -4.178      0.000      -0.167      -0.060\nMARRIED        0.2074      0.041      5.040      0.000       0.127       0.288\n==============================================================================\nOmnibus:                       33.530   Durbin-Watson:                   1.837\nProb(Omnibus):                  0.000   Jarque-Bera (JB):               73.215\nSkew:                          -0.203   Prob(JB):                     1.26e-16\nKurtosis:                       4.373   Cond. No.                         466.\n==============================================================================\n\nNotes:\n[1] Standard Errors assume that the covariance matrix of the errors is correctly specified.\n"
     ]
    }
   ],
   "source": [
    "print(fam.summary())"
   ]
  },
  {
   "cell_type": "code",
   "execution_count": 216,
   "metadata": {},
   "outputs": [
    {
     "output_type": "execute_result",
     "data": {
      "text/plain": [
       "5.691040995508359"
      ]
     },
     "metadata": {},
     "execution_count": 216
    }
   ],
   "source": [
    "((fam.ssr - reg.ssr)/(reg.df_model - fam.df_model))/(reg.ssr/(reg.nobs-(reg.df_model+1)))"
   ]
  },
  {
   "cell_type": "code",
   "execution_count": 231,
   "metadata": {},
   "outputs": [],
   "source": [
    "def ftests(reg_irres, reg_rest):\n",
    "    gl_num = (reg_irres.df_model - reg_rest.df_model)\n",
    "    gl_denom = (reg_irres.nobs-(reg_irres.df_model+1))\n",
    "    f = ((reg_rest.ssr - reg_irres.ssr)/(reg_irres.df_model - reg_rest.df_model))/(reg_irres.ssr/(reg_irres.nobs-(reg_irres.df_model+1)))\n",
    "\n",
    "    print(f\"GL NUM: {gl_num}\")\n",
    "    print(f\"GL DENOM: {gl_denom}\")\n",
    "    print(f\"F test: {f}\")"
   ]
  },
  {
   "cell_type": "code",
   "execution_count": null,
   "metadata": {},
   "outputs": [],
   "source": []
  },
  {
   "cell_type": "code",
   "execution_count": 232,
   "metadata": {},
   "outputs": [
    {
     "output_type": "stream",
     "name": "stdout",
     "text": [
      "GL NUM: 2.0\nGL DENOM: 848.0\nF test: 5.691040995508359\n"
     ]
    }
   ],
   "source": [
    "ftests(reg, fam)"
   ]
  },
  {
   "cell_type": "code",
   "execution_count": 233,
   "metadata": {},
   "outputs": [],
   "source": [
    "reg_rest = {}\n",
    "\n",
    "for categ in categs:\n",
    "    reg_rest[categ] = sm.OLS(y, sm.add_constant(X.drop(categs[categ], axis=1))).fit()"
   ]
  },
  {
   "cell_type": "code",
   "execution_count": 234,
   "metadata": {},
   "outputs": [
    {
     "output_type": "execute_result",
     "data": {
      "text/plain": [
       "{'family': <statsmodels.regression.linear_model.RegressionResultsWrapper at 0x220ebecf820>,\n",
       " 'indiv': <statsmodels.regression.linear_model.RegressionResultsWrapper at 0x220eacfac40>,\n",
       " 'regiao': <statsmodels.regression.linear_model.RegressionResultsWrapper at 0x220ebb5adf0>,\n",
       " 'emp': <statsmodels.regression.linear_model.RegressionResultsWrapper at 0x220ebb5a040>}"
      ]
     },
     "metadata": {},
     "execution_count": 234
    }
   ],
   "source": [
    "reg_rest"
   ]
  },
  {
   "cell_type": "code",
   "execution_count": 235,
   "metadata": {},
   "outputs": [
    {
     "output_type": "stream",
     "name": "stdout",
     "text": [
      "GL NUM: 2.0\nGL DENOM: 848.0\nF test: 5.691040995508359\nGL NUM: 3.0\nGL DENOM: 848.0\nF test: 34.70445788138374\nGL NUM: 2.0\nGL DENOM: 848.0\nF test: 27.48565654112482\nGL NUM: 1.0\nGL DENOM: 848.0\nF test: 16.777304855293423\n"
     ]
    }
   ],
   "source": [
    "for categ in categs:\n",
    "    ftests(reg, reg_rest[categ])"
   ]
  },
  {
   "cell_type": "code",
   "execution_count": 205,
   "metadata": {},
   "outputs": [
    {
     "output_type": "execute_result",
     "data": {
      "text/plain": [
       "857.0"
      ]
     },
     "metadata": {},
     "execution_count": 205
    }
   ],
   "source": [
    "reg.nobs"
   ]
  },
  {
   "cell_type": "code",
   "execution_count": 228,
   "metadata": {},
   "outputs": [],
   "source": [
    "from scipy.stats import f"
   ]
  },
  {
   "cell_type": "code",
   "execution_count": 254,
   "metadata": {},
   "outputs": [
    {
     "output_type": "stream",
     "name": "stdout",
     "text": [
      "valor crítico\n"
     ]
    },
    {
     "output_type": "execute_result",
     "data": {
      "text/plain": [
       "3.0063402749654236"
      ]
     },
     "metadata": {},
     "execution_count": 254
    }
   ],
   "source": [
    "print(\"valor crítico\")\n",
    "f.ppf(q=1-0.05, dfn=2, dfd=848)"
   ]
  },
  {
   "cell_type": "code",
   "execution_count": 257,
   "metadata": {},
   "outputs": [
    {
     "output_type": "execute_result",
     "data": {
      "text/plain": [
       "<class 'statsmodels.stats.contrast.ContrastResults'>\n",
       "                             Test for Constraints                             \n",
       "==============================================================================\n",
       "                 coef    std err          t      P>|t|      [0.025      0.975]\n",
       "------------------------------------------------------------------------------\n",
       "c0            26.3834      0.867     30.442      0.000      24.682      28.084\n",
       "=============================================================================="
      ]
     },
     "metadata": {},
     "execution_count": 257
    }
   ],
   "source": [
    "reg.t_test(reg.params)"
   ]
  },
  {
   "cell_type": "code",
   "execution_count": 267,
   "metadata": {},
   "outputs": [
    {
     "output_type": "execute_result",
     "data": {
      "text/plain": [
       "<class 'statsmodels.stats.contrast.ContrastResults'>\n",
       "                             Test for Constraints                             \n",
       "==============================================================================\n",
       "                 coef    std err          t      P>|t|      [0.025      0.975]\n",
       "------------------------------------------------------------------------------\n",
       "c0             0.0107      0.003      4.096      0.000       0.006       0.016\n",
       "=============================================================================="
      ]
     },
     "metadata": {},
     "execution_count": 267
    }
   ],
   "source": [
    "reg.t_test((reg.params.index == \"TENURE\").astype(int))"
   ]
  },
  {
   "cell_type": "code",
   "execution_count": 5,
   "metadata": {},
   "outputs": [
    {
     "output_type": "error",
     "ename": "NameError",
     "evalue": "name 'reg' is not defined",
     "traceback": [
      "\u001b[1;31m---------------------------------------------------------------------------\u001b[0m",
      "\u001b[1;31mNameError\u001b[0m                                 Traceback (most recent call last)",
      "\u001b[1;32m<ipython-input-5-3542169be046>\u001b[0m in \u001b[0;36m<module>\u001b[1;34m\u001b[0m\n\u001b[1;32m----> 1\u001b[1;33m \u001b[0mreg\u001b[0m\u001b[1;33m\u001b[0m\u001b[1;33m\u001b[0m\u001b[0m\n\u001b[0m",
      "\u001b[1;31mNameError\u001b[0m: name 'reg' is not defined"
     ]
    }
   ],
   "source": [
    "reg"
   ]
  },
  {
   "cell_type": "code",
   "execution_count": null,
   "metadata": {},
   "outputs": [],
   "source": []
  }
 ]
}